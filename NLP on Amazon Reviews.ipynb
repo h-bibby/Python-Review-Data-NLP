{
 "cells": [
  {
   "cell_type": "markdown",
   "id": "4cb52eae",
   "metadata": {},
   "source": [
    "## Using Natural Language Processing Pipeline to Investigate Amazon Review Data."
   ]
  },
  {
   "cell_type": "code",
   "execution_count": 1,
   "id": "dec95f6f",
   "metadata": {},
   "outputs": [],
   "source": [
    "# Importing packages\n",
    "# General packages\n",
    "import pandas as pd\n",
    "import seaborn as sns\n",
    "import matplotlib.pyplot as plt\n",
    "\n",
    "# Web scraping packages\n",
    "from selenium import webdriver\n",
    "from selenium.webdriver.common.by import By\n",
    "from selenium.webdriver.common.keys import Keys\n",
    "from selenium.webdriver.chrome.options import Options\n",
    "import time\n",
    "from time import sleep\n",
    "from bs4 import BeautifulSoup as BS\n",
    "from selenium.webdriver.edge.service import Service\n",
    "\n",
    "# Text analysis packages\n",
    "from collections import Counter\n",
    "import nltk\n",
    "from textblob import Word\n",
    "import string\n",
    "import numpy as np\n",
    "\n",
    "# Sentiment analysis packages\n",
    "from sklearn.model_selection import train_test_split\n",
    "from sklearn.feature_extraction.text import TfidfVectorizer\n",
    "from sklearn.svm import LinearSVC\n",
    "from sklearn.metrics import accuracy_score\n",
    "from sklearn import svm\n",
    "from sklearn.linear_model import LogisticRegression\n",
    "from sklearn.ensemble import RandomForestClassifier"
   ]
  },
  {
   "cell_type": "markdown",
   "id": "a766f531",
   "metadata": {},
   "source": [
    "#### Data Creation and Pre-Processing – "
   ]
  },
  {
   "cell_type": "code",
   "execution_count": 2,
   "id": "9d31802a",
   "metadata": {},
   "outputs": [
    {
     "name": "stdout",
     "output_type": "stream",
     "text": [
      "Scraping ASIN: B0BH7VSYVZ\n",
      "Scraping ASIN: B01N5XZCTV\n",
      "Scraping ASIN: B09ZHLXPNQ\n",
      "Scraping ASIN: B09Q86F1BT\n",
      "Scraping ASIN: B0822KRN8Q\n",
      "Scraping ASIN: B0CWHL3ZQM\n",
      "Scraping ASIN: B08J1XD1JM\n",
      "Scraping ASIN: B0BTTM9X51\n",
      "Scraping ASIN: B0CXTPK12L\n",
      "Scraping ASIN: B09LS3M222\n",
      "Scraping ASIN: B07CTSS14R\n",
      "Scraping ASIN: B01IW02HX2\n",
      "Scraping ASIN: B0CXJDX8XY\n",
      "Scraping ASIN: B08C7KG5LP\n",
      "Scraping ASIN: B0BRKJNRGT\n"
     ]
    }
   ],
   "source": [
    "# Scraping data from Amazon website\n",
    "# Creating lists to store scraped data\n",
    "body_list = []\n",
    "title_list1 = []\n",
    "rating_list1 = []\n",
    "asin_list = []\n",
    "date_list1 = []\n",
    "\n",
    "# List of ASINs to scrape data from\n",
    "asins = ['B0BH7VSYVZ', 'B01N5XZCTV', 'B09ZHLXPNQ', #books\n",
    "         'B09Q86F1BT', 'B0822KRN8Q', 'B0CWHL3ZQM', #clothes\n",
    "         'B08J1XD1JM', 'B0BTTM9X51', 'B0CXTPK12L', #household\n",
    "         'B09LS3M222', 'B07CTSS14R', 'B01IW02HX2', #personal care\n",
    "         'B0CXJDX8XY', 'B08C7KG5LP', 'B0BRKJNRGT'] #technology\n",
    "\n",
    "# For each ASIN in list, use webdriver and beautiful soup to retrieve body, title, rating, and date\n",
    "for asin in asins:\n",
    "    service = Service(r\"C:\\Users\\holly\\msedgedriver.exe\") # needs to be location of where driver is installed\n",
    "    driver = webdriver.Edge(service=service)\n",
    "    driver.get(f\"https://www.amazon.co.uk/product-reviews/{asin}/ref=cm_cr_dp_d_show_all_btm?ie=UTF8&reviewerType=all_reviews&sortBy=recent\")\n",
    "    driver.maximize_window()\n",
    "    source = driver.page_source\n",
    "    soup = BS(source, 'html.parser')\n",
    "    # Data to retrieve\n",
    "    body = soup.find_all('span', {'data-hook': 'review-body'})\n",
    "    title = soup.find_all('a', {'data-hook': 'review-title'})\n",
    "    rating = soup.find_all('i', {'data-hook': 'review-star-rating'})\n",
    "    date = soup.find_all('span', {'data-hook': 'review-date'})\n",
    "    # Printing product scraped from (show progress)\n",
    "    print(\"Scraping ASIN: \" + str(asin))\n",
    "    \n",
    "    # Add ASIN to list\n",
    "    asin_list.extend([asin]*len(body))\n",
    "    \n",
    "    # Adding scraped data to lists\n",
    "    for i in body:\n",
    "        body_list.append(i.get_text(strip=True)) \n",
    "    for i in title:\n",
    "        title_list1.append(i.get_text(strip=True))\n",
    "    for i in rating:\n",
    "        rating_list1.append(i.get_text(strip=True))\n",
    "    for i in date:\n",
    "        date_list1.append(i.get_text(strip=True))\n",
    "    \n",
    "    # Adding time break to mimic human behaviour - so don't overload system\n",
    "    time.sleep(5)\n",
    "# Closing webdriver\n",
    "driver.close()"
   ]
  },
  {
   "cell_type": "code",
   "execution_count": 3,
   "id": "3fb23283",
   "metadata": {},
   "outputs": [],
   "source": [
    "# Filtering scraped text to get desired text only\n",
    "# Adding title to list\n",
    "title_list2 = []\n",
    "for title in title_list1:\n",
    "    # Getting title text only\n",
    "    star_rating, title_text = title.split('stars', 1)\n",
    "    title_list2.append(title_text.strip())\n",
    "\n",
    "# Adding star ratings to list\n",
    "rating_list2 = []\n",
    "for rating in rating_list1:\n",
    "    # Getting number value only\n",
    "    star, star_text = rating.split('.', 1)\n",
    "    rating_list2.append(star.strip())\n",
    "    \n",
    "# Adding dates to list\n",
    "date_list2 = []\n",
    "for date in date_list1:\n",
    "    # Getting date only\n",
    "    date_text, date = date.split('on ', 1)\n",
    "    date_list2.append(date.strip())"
   ]
  },
  {
   "cell_type": "code",
   "execution_count": 4,
   "id": "ed2e65aa",
   "metadata": {},
   "outputs": [
    {
     "data": {
      "text/html": [
       "<div>\n",
       "<style scoped>\n",
       "    .dataframe tbody tr th:only-of-type {\n",
       "        vertical-align: middle;\n",
       "    }\n",
       "\n",
       "    .dataframe tbody tr th {\n",
       "        vertical-align: top;\n",
       "    }\n",
       "\n",
       "    .dataframe thead th {\n",
       "        text-align: right;\n",
       "    }\n",
       "</style>\n",
       "<table border=\"1\" class=\"dataframe\">\n",
       "  <thead>\n",
       "    <tr style=\"text-align: right;\">\n",
       "      <th></th>\n",
       "      <th>asin</th>\n",
       "      <th>review_title</th>\n",
       "      <th>rating</th>\n",
       "      <th>review_body</th>\n",
       "      <th>review_date</th>\n",
       "    </tr>\n",
       "  </thead>\n",
       "  <tbody>\n",
       "    <tr>\n",
       "      <th>72</th>\n",
       "      <td>B0BTTM9X51</td>\n",
       "      <td>Laundry</td>\n",
       "      <td>5</td>\n",
       "      <td>Great product</td>\n",
       "      <td>4 June 2024</td>\n",
       "    </tr>\n",
       "    <tr>\n",
       "      <th>112</th>\n",
       "      <td>B01IW02HX2</td>\n",
       "      <td>Good mix of colours</td>\n",
       "      <td>5</td>\n",
       "      <td>Great quality and great mix of cours</td>\n",
       "      <td>26 May 2024</td>\n",
       "    </tr>\n",
       "    <tr>\n",
       "      <th>132</th>\n",
       "      <td>B08C7KG5LP</td>\n",
       "      <td>Annoying if you switch devices often</td>\n",
       "      <td>4</td>\n",
       "      <td>Sound quality and useability is through the ro...</td>\n",
       "      <td>2 June 2024</td>\n",
       "    </tr>\n",
       "    <tr>\n",
       "      <th>88</th>\n",
       "      <td>B0CXTPK12L</td>\n",
       "      <td>So far so good!</td>\n",
       "      <td>5</td>\n",
       "      <td>It’s a bit more complicated than my previous a...</td>\n",
       "      <td>31 May 2024</td>\n",
       "    </tr>\n",
       "    <tr>\n",
       "      <th>37</th>\n",
       "      <td>B09Q86F1BT</td>\n",
       "      <td>Good wellie boots</td>\n",
       "      <td>4</td>\n",
       "      <td>Good quality just need to be worn in a little bit</td>\n",
       "      <td>29 May 2024</td>\n",
       "    </tr>\n",
       "  </tbody>\n",
       "</table>\n",
       "</div>"
      ],
      "text/plain": [
       "           asin                          review_title rating  \\\n",
       "72   B0BTTM9X51                               Laundry      5   \n",
       "112  B01IW02HX2                   Good mix of colours      5   \n",
       "132  B08C7KG5LP  Annoying if you switch devices often      4   \n",
       "88   B0CXTPK12L                       So far so good!      5   \n",
       "37   B09Q86F1BT                     Good wellie boots      4   \n",
       "\n",
       "                                           review_body  review_date  \n",
       "72                                       Great product  4 June 2024  \n",
       "112               Great quality and great mix of cours  26 May 2024  \n",
       "132  Sound quality and useability is through the ro...  2 June 2024  \n",
       "88   It’s a bit more complicated than my previous a...  31 May 2024  \n",
       "37   Good quality just need to be worn in a little bit  29 May 2024  "
      ]
     },
     "execution_count": 4,
     "metadata": {},
     "output_type": "execute_result"
    }
   ],
   "source": [
    "# Putting scraped data (from lists) into a pandas dataframe\n",
    "data = {'asin': asin_list,\n",
    "        'review_title': title_list2,\n",
    "        'rating': rating_list2,\n",
    "        'review_body': body_list,\n",
    "        'review_date': date_list2\n",
    "}\n",
    "df = pd.DataFrame(data)\n",
    "# Printing sample of dataframe\n",
    "df.sample(5, random_state=123)"
   ]
  },
  {
   "cell_type": "code",
   "execution_count": 5,
   "id": "b3ebbec2",
   "metadata": {},
   "outputs": [],
   "source": [
    "# Combining review title and review body columns\n",
    "df['review_text'] = df['review_title'] + ' ' + df['review_body']\n",
    "df.drop(['review_title', 'review_body'], axis=1, inplace=True)"
   ]
  },
  {
   "cell_type": "code",
   "execution_count": 6,
   "id": "a4585ca9",
   "metadata": {},
   "outputs": [
    {
     "data": {
      "text/plain": [
       "150"
      ]
     },
     "execution_count": 6,
     "metadata": {},
     "output_type": "execute_result"
    }
   ],
   "source": [
    "# Checking length of dataframe\n",
    "len(df)"
   ]
  },
  {
   "cell_type": "code",
   "execution_count": 7,
   "id": "d3a50d67",
   "metadata": {},
   "outputs": [
    {
     "name": "stdout",
     "output_type": "stream",
     "text": [
      "<class 'pandas.core.frame.DataFrame'>\n",
      "RangeIndex: 150 entries, 0 to 149\n",
      "Data columns (total 4 columns):\n",
      " #   Column       Non-Null Count  Dtype \n",
      "---  ------       --------------  ----- \n",
      " 0   asin         150 non-null    object\n",
      " 1   rating       150 non-null    object\n",
      " 2   review_date  150 non-null    object\n",
      " 3   review_text  150 non-null    object\n",
      "dtypes: object(4)\n",
      "memory usage: 4.8+ KB\n"
     ]
    }
   ],
   "source": [
    "# Checking datatypes and missing data\n",
    "df.info()"
   ]
  },
  {
   "cell_type": "code",
   "execution_count": 8,
   "id": "eb46aafd",
   "metadata": {},
   "outputs": [],
   "source": [
    "# Changing data types to as desired\n",
    "df['rating'] = df['rating'].astype(int)\n",
    "df['review_date'] = pd.to_datetime(df['review_date'], format='%d %B %Y')"
   ]
  },
  {
   "cell_type": "code",
   "execution_count": 9,
   "id": "0f4daf12",
   "metadata": {},
   "outputs": [
    {
     "data": {
      "text/plain": [
       "asin                   object\n",
       "rating                  int32\n",
       "review_date    datetime64[ns]\n",
       "review_text            object\n",
       "dtype: object"
      ]
     },
     "execution_count": 9,
     "metadata": {},
     "output_type": "execute_result"
    }
   ],
   "source": [
    "# Checking data types after changes made\n",
    "df.dtypes"
   ]
  },
  {
   "cell_type": "code",
   "execution_count": 10,
   "id": "dba40668",
   "metadata": {},
   "outputs": [],
   "source": [
    "# Saving dataframe to excel - save time regenerating and ensure consistent results\n",
    "df.to_excel(\"Amazon Review Data.xlsx\", index=False)"
   ]
  },
  {
   "cell_type": "code",
   "execution_count": 12,
   "id": "a66bfb03",
   "metadata": {},
   "outputs": [
    {
     "data": {
      "text/html": [
       "<div>\n",
       "<style scoped>\n",
       "    .dataframe tbody tr th:only-of-type {\n",
       "        vertical-align: middle;\n",
       "    }\n",
       "\n",
       "    .dataframe tbody tr th {\n",
       "        vertical-align: top;\n",
       "    }\n",
       "\n",
       "    .dataframe thead th {\n",
       "        text-align: right;\n",
       "    }\n",
       "</style>\n",
       "<table border=\"1\" class=\"dataframe\">\n",
       "  <thead>\n",
       "    <tr style=\"text-align: right;\">\n",
       "      <th></th>\n",
       "      <th>asin</th>\n",
       "      <th>rating</th>\n",
       "      <th>review_date</th>\n",
       "      <th>review_text</th>\n",
       "    </tr>\n",
       "  </thead>\n",
       "  <tbody>\n",
       "    <tr>\n",
       "      <th>0</th>\n",
       "      <td>B0BH7VSYVZ</td>\n",
       "      <td>5</td>\n",
       "      <td>2024-06-06</td>\n",
       "      <td>wow! Woah! What a rollercoaster of a book!It w...</td>\n",
       "    </tr>\n",
       "    <tr>\n",
       "      <th>1</th>\n",
       "      <td>B0BH7VSYVZ</td>\n",
       "      <td>2</td>\n",
       "      <td>2024-06-06</td>\n",
       "      <td>Poor writing Lack of any character depth or a ...</td>\n",
       "    </tr>\n",
       "    <tr>\n",
       "      <th>2</th>\n",
       "      <td>B0BH7VSYVZ</td>\n",
       "      <td>5</td>\n",
       "      <td>2024-06-05</td>\n",
       "      <td>Amazing!! Amazing book, had me gripped from th...</td>\n",
       "    </tr>\n",
       "    <tr>\n",
       "      <th>3</th>\n",
       "      <td>B0BH7VSYVZ</td>\n",
       "      <td>5</td>\n",
       "      <td>2024-06-05</td>\n",
       "      <td>Great story I loved this book. Lisa Jewell has...</td>\n",
       "    </tr>\n",
       "    <tr>\n",
       "      <th>4</th>\n",
       "      <td>B0BH7VSYVZ</td>\n",
       "      <td>5</td>\n",
       "      <td>2024-06-04</td>\n",
       "      <td>Brilliant What a cracker of a book.  Lisa Jewe...</td>\n",
       "    </tr>\n",
       "  </tbody>\n",
       "</table>\n",
       "</div>"
      ],
      "text/plain": [
       "         asin  rating review_date  \\\n",
       "0  B0BH7VSYVZ       5  2024-06-06   \n",
       "1  B0BH7VSYVZ       2  2024-06-06   \n",
       "2  B0BH7VSYVZ       5  2024-06-05   \n",
       "3  B0BH7VSYVZ       5  2024-06-05   \n",
       "4  B0BH7VSYVZ       5  2024-06-04   \n",
       "\n",
       "                                         review_text  \n",
       "0  wow! Woah! What a rollercoaster of a book!It w...  \n",
       "1  Poor writing Lack of any character depth or a ...  \n",
       "2  Amazing!! Amazing book, had me gripped from th...  \n",
       "3  Great story I loved this book. Lisa Jewell has...  \n",
       "4  Brilliant What a cracker of a book.  Lisa Jewe...  "
      ]
     },
     "execution_count": 12,
     "metadata": {},
     "output_type": "execute_result"
    }
   ],
   "source": [
    "# Redefining dataframe as excel download to ensure consistency\n",
    "data = pd.read_excel(\"Amazon Review Data.xlsx\")\n",
    "df = pd.DataFrame(data)\n",
    "df.head()"
   ]
  },
  {
   "cell_type": "markdown",
   "id": "6ef06420",
   "metadata": {},
   "source": [
    "#### Pre-Processing and EDA -"
   ]
  },
  {
   "cell_type": "code",
   "execution_count": 13,
   "id": "7c2dc22a",
   "metadata": {},
   "outputs": [
    {
     "data": {
      "image/png": "[encoded data removed]",
      "text/plain": [
       "<Figure size 1600x1400 with 15 Axes>"
      ]
     },
     "metadata": {},
     "output_type": "display_data"
    }
   ],
   "source": [
    "# Finding the balance of ratings for each product\n",
    "# Finding number of rows of subplots needed\n",
    "nrows = int(len(df['asin'].unique())/3)\n",
    "if len(df['asin'].unique()) % 3 != 0:\n",
    "    nrows += 1\n",
    "\n",
    "# Creating axis for plots\n",
    "fig, axes = plt.subplots(nrows=nrows, ncols=3, figsize=(16, 14))\n",
    "axes = axes.flatten()\n",
    "\n",
    "fig.suptitle('Balance of Ratings by Product', fontsize=14)\n",
    "\n",
    "# Creating graph for distribution of rating in each ASIN\n",
    "for i, asin in enumerate(df['asin'].unique()):\n",
    "    asin_df = df[df['asin'] == asin]\n",
    "    \n",
    "    # Creating bar chart and customising\n",
    "    asin_df['rating'].value_counts().sort_index().plot(kind='bar', ax=axes[i])\n",
    "    axes[i].set_title(f'{asin} Rating Distribution')\n",
    "    axes[i].set_xlabel('Rating')\n",
    "    axes[i].set_ylabel('Count')\n",
    "    axes[i].set_xticklabels(axes[i].get_xticklabels(), rotation=0)\n",
    "\n",
    "# Removing any unused axis\n",
    "for j in range(i + 1, len(axes)):\n",
    "    fig.delaxes(axes[j])\n",
    "\n",
    "plt.tight_layout()\n",
    "plt.show()"
   ]
  },
  {
   "cell_type": "code",
   "execution_count": 14,
   "id": "0da329b6",
   "metadata": {},
   "outputs": [
    {
     "data": {
      "image/png": "[encoded data removed]",
      "text/plain": [
       "<Figure size 400x300 with 1 Axes>"
      ]
     },
     "metadata": {},
     "output_type": "display_data"
    }
   ],
   "source": [
    "# Finding overall balance of ratings\n",
    "plt.figure(figsize=(4, 3))\n",
    "df['rating'].value_counts().sort_index().plot(kind='bar')\n",
    "plt.title(f'Overall Rating Distribution')\n",
    "plt.xlabel('Rating')\n",
    "plt.ylabel('Count')\n",
    "plt.xticks(rotation=0)\n",
    "plt.show()"
   ]
  },
  {
   "cell_type": "code",
   "execution_count": 15,
   "id": "21930994",
   "metadata": {},
   "outputs": [
    {
     "data": {
      "text/plain": [
       "rating\n",
       "5    96\n",
       "4    20\n",
       "1    17\n",
       "3    10\n",
       "2     7\n",
       "Name: count, dtype: int64"
      ]
     },
     "execution_count": 15,
     "metadata": {},
     "output_type": "execute_result"
    }
   ],
   "source": [
    "# Printing the overall number of each rating\n",
    "df['rating'].value_counts()"
   ]
  },
  {
   "cell_type": "code",
   "execution_count": 16,
   "id": "8c061fb2",
   "metadata": {},
   "outputs": [
    {
     "data": {
      "text/plain": [
       "asin\n",
       "B0BH7VSYVZ    10\n",
       "B01N5XZCTV    10\n",
       "B09ZHLXPNQ    10\n",
       "B09Q86F1BT    10\n",
       "B0822KRN8Q    10\n",
       "B0CWHL3ZQM    10\n",
       "B08J1XD1JM    10\n",
       "B0BTTM9X51    10\n",
       "B0CXTPK12L    10\n",
       "B09LS3M222    10\n",
       "B07CTSS14R    10\n",
       "B01IW02HX2    10\n",
       "B0CXJDX8XY    10\n",
       "B08C7KG5LP    10\n",
       "B0BRKJNRGT    10\n",
       "Name: count, dtype: int64"
      ]
     },
     "execution_count": 16,
     "metadata": {},
     "output_type": "execute_result"
    }
   ],
   "source": [
    "# Finding number of reviews scraped for each ASIN\n",
    "df['asin'].value_counts()"
   ]
  },
  {
   "cell_type": "code",
   "execution_count": 17,
   "id": "60b73834",
   "metadata": {},
   "outputs": [],
   "source": [
    "# Adding column signifying length of text\n",
    "df['length'] = df['review_text'].str.len()"
   ]
  },
  {
   "cell_type": "code",
   "execution_count": 18,
   "id": "83618a1c",
   "metadata": {},
   "outputs": [
    {
     "data": {
      "text/plain": [
       "<Axes: >"
      ]
     },
     "execution_count": 18,
     "metadata": {},
     "output_type": "execute_result"
    },
    {
     "data": {
      "image/png": "[encoded data removed]",
      "text/plain": [
       "<Figure size 800x100 with 1 Axes>"
      ]
     },
     "metadata": {},
     "output_type": "display_data"
    }
   ],
   "source": [
    "# Plotting box plot for length of text\n",
    "df['length'].plot(kind='box', vert=False, figsize=(8, 1))"
   ]
  },
  {
   "cell_type": "code",
   "execution_count": 19,
   "id": "feb58500",
   "metadata": {},
   "outputs": [
    {
     "data": {
      "text/plain": [
       "<Axes: ylabel='Frequency'>"
      ]
     },
     "execution_count": 19,
     "metadata": {},
     "output_type": "execute_result"
    },
    {
     "data": {
      "image/png": "[encoded data removed]",
      "text/plain": [
       "<Figure size 800x200 with 1 Axes>"
      ]
     },
     "metadata": {},
     "output_type": "display_data"
    }
   ],
   "source": [
    "# Plotting histogram for length of text\n",
    "df['length'].plot(kind='hist', bins=30, figsize=(8,2))"
   ]
  },
  {
   "cell_type": "code",
   "execution_count": 20,
   "id": "49577640",
   "metadata": {},
   "outputs": [
    {
     "data": {
      "text/html": [
       "<div>\n",
       "<style scoped>\n",
       "    .dataframe tbody tr th:only-of-type {\n",
       "        vertical-align: middle;\n",
       "    }\n",
       "\n",
       "    .dataframe tbody tr th {\n",
       "        vertical-align: top;\n",
       "    }\n",
       "\n",
       "    .dataframe thead th {\n",
       "        text-align: right;\n",
       "    }\n",
       "</style>\n",
       "<table border=\"1\" class=\"dataframe\">\n",
       "  <thead>\n",
       "    <tr style=\"text-align: right;\">\n",
       "      <th></th>\n",
       "      <th>count</th>\n",
       "      <th>mean</th>\n",
       "      <th>min</th>\n",
       "      <th>25%</th>\n",
       "      <th>50%</th>\n",
       "      <th>75%</th>\n",
       "      <th>max</th>\n",
       "      <th>std</th>\n",
       "    </tr>\n",
       "  </thead>\n",
       "  <tbody>\n",
       "    <tr>\n",
       "      <th>rating</th>\n",
       "      <td>150.0</td>\n",
       "      <td>4.14</td>\n",
       "      <td>1.0</td>\n",
       "      <td>4.0</td>\n",
       "      <td>5.0</td>\n",
       "      <td>5.0</td>\n",
       "      <td>5.0</td>\n",
       "      <td>1.38074</td>\n",
       "    </tr>\n",
       "    <tr>\n",
       "      <th>review_date</th>\n",
       "      <td>150</td>\n",
       "      <td>2024-05-09 21:45:36</td>\n",
       "      <td>2023-08-22 00:00:00</td>\n",
       "      <td>2024-05-17 00:00:00</td>\n",
       "      <td>2024-05-30 00:00:00</td>\n",
       "      <td>2024-06-02 00:00:00</td>\n",
       "      <td>2024-06-06 00:00:00</td>\n",
       "      <td>NaN</td>\n",
       "    </tr>\n",
       "    <tr>\n",
       "      <th>length</th>\n",
       "      <td>150.0</td>\n",
       "      <td>281.54</td>\n",
       "      <td>12.0</td>\n",
       "      <td>63.25</td>\n",
       "      <td>124.5</td>\n",
       "      <td>207.5</td>\n",
       "      <td>3946.0</td>\n",
       "      <td>558.159158</td>\n",
       "    </tr>\n",
       "  </tbody>\n",
       "</table>\n",
       "</div>"
      ],
      "text/plain": [
       "             count                 mean                  min  \\\n",
       "rating       150.0                 4.14                  1.0   \n",
       "review_date    150  2024-05-09 21:45:36  2023-08-22 00:00:00   \n",
       "length       150.0               281.54                 12.0   \n",
       "\n",
       "                             25%                  50%                  75%  \\\n",
       "rating                       4.0                  5.0                  5.0   \n",
       "review_date  2024-05-17 00:00:00  2024-05-30 00:00:00  2024-06-02 00:00:00   \n",
       "length                     63.25                124.5                207.5   \n",
       "\n",
       "                             max         std  \n",
       "rating                       5.0     1.38074  \n",
       "review_date  2024-06-06 00:00:00         NaN  \n",
       "length                    3946.0  558.159158  "
      ]
     },
     "execution_count": 20,
     "metadata": {},
     "output_type": "execute_result"
    }
   ],
   "source": [
    "# Calculating summary statistics\n",
    "df.describe().T"
   ]
  },
  {
   "cell_type": "markdown",
   "id": "63758fde",
   "metadata": {},
   "source": [
    "#### Text Processing -"
   ]
  },
  {
   "cell_type": "code",
   "execution_count": 125,
   "id": "25fe3273",
   "metadata": {},
   "outputs": [],
   "source": [
    "# Defining lowercase function\n",
    "lower = str.lower"
   ]
  },
  {
   "cell_type": "code",
   "execution_count": 22,
   "id": "cc15888c",
   "metadata": {},
   "outputs": [],
   "source": [
    "# Defining tokenizer function (based off white spaces)\n",
    "tokenizer = nltk.WhitespaceTokenizer()\n",
    "def tokenize(text):\n",
    "    tokens = tokenizer.tokenize(text)\n",
    "    return tokens"
   ]
  },
  {
   "cell_type": "code",
   "execution_count": 23,
   "id": "6151b168",
   "metadata": {},
   "outputs": [
    {
     "name": "stderr",
     "output_type": "stream",
     "text": [
      "[nltk_data] Downloading package stopwords to\n",
      "[nltk_data]     C:\\Users\\holly\\AppData\\Roaming\\nltk_data...\n",
      "[nltk_data]   Package stopwords is already up-to-date!\n"
     ]
    }
   ],
   "source": [
    "# Downloading NLTK stopwords\n",
    "nltk.download('stopwords')\n",
    "stopwords = set(nltk.corpus.stopwords.words('english'))\n",
    "\n",
    "# Defining remove stop words function\n",
    "def remove_stop(tokens):\n",
    "    return [t for t in tokens if t.lower() not in stopwords]"
   ]
  },
  {
   "cell_type": "code",
   "execution_count": 24,
   "id": "97554818",
   "metadata": {},
   "outputs": [
    {
     "data": {
      "text/plain": [
       "{'a',\n",
       " 'about',\n",
       " 'above',\n",
       " 'after',\n",
       " 'again',\n",
       " 'against',\n",
       " 'ain',\n",
       " 'all',\n",
       " 'am',\n",
       " 'an',\n",
       " 'and',\n",
       " 'any',\n",
       " 'are',\n",
       " 'aren',\n",
       " \"aren't\",\n",
       " 'as',\n",
       " 'at',\n",
       " 'be',\n",
       " 'because',\n",
       " 'been',\n",
       " 'before',\n",
       " 'being',\n",
       " 'below',\n",
       " 'between',\n",
       " 'both',\n",
       " 'but',\n",
       " 'by',\n",
       " 'can',\n",
       " 'couldn',\n",
       " \"couldn't\",\n",
       " 'd',\n",
       " 'did',\n",
       " 'didn',\n",
       " \"didn't\",\n",
       " 'do',\n",
       " 'does',\n",
       " 'doesn',\n",
       " \"doesn't\",\n",
       " 'doing',\n",
       " 'don',\n",
       " \"don't\",\n",
       " 'down',\n",
       " 'during',\n",
       " 'each',\n",
       " 'few',\n",
       " 'for',\n",
       " 'from',\n",
       " 'further',\n",
       " 'had',\n",
       " 'hadn',\n",
       " \"hadn't\",\n",
       " 'has',\n",
       " 'hasn',\n",
       " \"hasn't\",\n",
       " 'have',\n",
       " 'haven',\n",
       " \"haven't\",\n",
       " 'having',\n",
       " 'he',\n",
       " 'her',\n",
       " 'here',\n",
       " 'hers',\n",
       " 'herself',\n",
       " 'him',\n",
       " 'himself',\n",
       " 'his',\n",
       " 'how',\n",
       " 'i',\n",
       " 'if',\n",
       " 'in',\n",
       " 'into',\n",
       " 'is',\n",
       " 'isn',\n",
       " \"isn't\",\n",
       " 'it',\n",
       " \"it's\",\n",
       " 'its',\n",
       " 'itself',\n",
       " 'just',\n",
       " 'll',\n",
       " 'm',\n",
       " 'ma',\n",
       " 'me',\n",
       " 'mightn',\n",
       " \"mightn't\",\n",
       " 'more',\n",
       " 'most',\n",
       " 'mustn',\n",
       " \"mustn't\",\n",
       " 'my',\n",
       " 'myself',\n",
       " 'needn',\n",
       " \"needn't\",\n",
       " 'no',\n",
       " 'nor',\n",
       " 'not',\n",
       " 'now',\n",
       " 'o',\n",
       " 'of',\n",
       " 'off',\n",
       " 'on',\n",
       " 'once',\n",
       " 'only',\n",
       " 'or',\n",
       " 'other',\n",
       " 'our',\n",
       " 'ours',\n",
       " 'ourselves',\n",
       " 'out',\n",
       " 'over',\n",
       " 'own',\n",
       " 're',\n",
       " 's',\n",
       " 'same',\n",
       " 'shan',\n",
       " \"shan't\",\n",
       " 'she',\n",
       " \"she's\",\n",
       " 'should',\n",
       " \"should've\",\n",
       " 'shouldn',\n",
       " \"shouldn't\",\n",
       " 'so',\n",
       " 'some',\n",
       " 'such',\n",
       " 't',\n",
       " 'than',\n",
       " 'that',\n",
       " \"that'll\",\n",
       " 'the',\n",
       " 'their',\n",
       " 'theirs',\n",
       " 'them',\n",
       " 'themselves',\n",
       " 'then',\n",
       " 'there',\n",
       " 'these',\n",
       " 'they',\n",
       " 'this',\n",
       " 'those',\n",
       " 'through',\n",
       " 'to',\n",
       " 'too',\n",
       " 'under',\n",
       " 'until',\n",
       " 'up',\n",
       " 've',\n",
       " 'very',\n",
       " 'was',\n",
       " 'wasn',\n",
       " \"wasn't\",\n",
       " 'we',\n",
       " 'were',\n",
       " 'weren',\n",
       " \"weren't\",\n",
       " 'what',\n",
       " 'when',\n",
       " 'where',\n",
       " 'which',\n",
       " 'while',\n",
       " 'who',\n",
       " 'whom',\n",
       " 'why',\n",
       " 'will',\n",
       " 'with',\n",
       " 'won',\n",
       " \"won't\",\n",
       " 'wouldn',\n",
       " \"wouldn't\",\n",
       " 'y',\n",
       " 'you',\n",
       " \"you'd\",\n",
       " \"you'll\",\n",
       " \"you're\",\n",
       " \"you've\",\n",
       " 'your',\n",
       " 'yours',\n",
       " 'yourself',\n",
       " 'yourselves'}"
      ]
     },
     "execution_count": 24,
     "metadata": {},
     "output_type": "execute_result"
    }
   ],
   "source": [
    "# Checking stopwords in list\n",
    "stopwords"
   ]
  },
  {
   "cell_type": "code",
   "execution_count": 30,
   "id": "48696d30",
   "metadata": {},
   "outputs": [],
   "source": [
    "# Defining remove punctuation function\n",
    "def remove_punc(tokens):\n",
    "    return [t for t in tokens if t not in string.punctuation]"
   ]
  },
  {
   "cell_type": "code",
   "execution_count": 31,
   "id": "ac43109e",
   "metadata": {},
   "outputs": [],
   "source": [
    "# Defining function to correct any misspelt words\n",
    "def correct_spellings(tokens):\n",
    "    return [Word(token).correct() for token in tokens]"
   ]
  },
  {
   "cell_type": "code",
   "execution_count": 32,
   "id": "24767074",
   "metadata": {},
   "outputs": [],
   "source": [
    "# Creating pipeline for processing text using defined functions\n",
    "pipeline = [lower, tokenize, remove_stop, remove_punc, correct_spellings]\n",
    "def prepare(text, pipeline):\n",
    "    tokens = text\n",
    "    for transform in pipeline:\n",
    "        tokens = transform(tokens)\n",
    "    return tokens"
   ]
  },
  {
   "cell_type": "code",
   "execution_count": 33,
   "id": "c7b2741c",
   "metadata": {},
   "outputs": [],
   "source": [
    "# Running text processing pipeline\n",
    "df['tokens'] = df['review_text'].apply(prepare, pipeline=pipeline)"
   ]
  },
  {
   "cell_type": "code",
   "execution_count": 34,
   "id": "fe6cce9a",
   "metadata": {},
   "outputs": [],
   "source": [
    "# Finding number of tokens and adding to column\n",
    "df['num_tokens'] = df['tokens'].map(len)"
   ]
  },
  {
   "cell_type": "code",
   "execution_count": 35,
   "id": "c90820d7",
   "metadata": {},
   "outputs": [
    {
     "data": {
      "text/html": [
       "<div>\n",
       "<style scoped>\n",
       "    .dataframe tbody tr th:only-of-type {\n",
       "        vertical-align: middle;\n",
       "    }\n",
       "\n",
       "    .dataframe tbody tr th {\n",
       "        vertical-align: top;\n",
       "    }\n",
       "\n",
       "    .dataframe thead th {\n",
       "        text-align: right;\n",
       "    }\n",
       "</style>\n",
       "<table border=\"1\" class=\"dataframe\">\n",
       "  <thead>\n",
       "    <tr style=\"text-align: right;\">\n",
       "      <th></th>\n",
       "      <th>asin</th>\n",
       "      <th>rating</th>\n",
       "      <th>review_date</th>\n",
       "      <th>review_text</th>\n",
       "      <th>length</th>\n",
       "      <th>tokens</th>\n",
       "      <th>num_tokens</th>\n",
       "    </tr>\n",
       "  </thead>\n",
       "  <tbody>\n",
       "    <tr>\n",
       "      <th>25</th>\n",
       "      <td>B09ZHLXPNQ</td>\n",
       "      <td>3</td>\n",
       "      <td>2024-05-26</td>\n",
       "      <td>Difficult to understand I really tried but cou...</td>\n",
       "      <td>95</td>\n",
       "      <td>[difficult, understand, really, tried, couldn,...</td>\n",
       "      <td>10</td>\n",
       "    </tr>\n",
       "    <tr>\n",
       "      <th>129</th>\n",
       "      <td>B0CXJDX8XY</td>\n",
       "      <td>5</td>\n",
       "      <td>2024-05-19</td>\n",
       "      <td>A decent upgrade to a Pixel 6a So my review is...</td>\n",
       "      <td>1834</td>\n",
       "      <td>[decent, upgrade, fixed, a, review, comparison...</td>\n",
       "      <td>170</td>\n",
       "    </tr>\n",
       "    <tr>\n",
       "      <th>41</th>\n",
       "      <td>B0822KRN8Q</td>\n",
       "      <td>5</td>\n",
       "      <td>2024-06-04</td>\n",
       "      <td>Wonderful I ordered the large to xl but next t...</td>\n",
       "      <td>146</td>\n",
       "      <td>[wonderful, ordered, large, ll, next, time, or...</td>\n",
       "      <td>19</td>\n",
       "    </tr>\n",
       "  </tbody>\n",
       "</table>\n",
       "</div>"
      ],
      "text/plain": [
       "           asin  rating review_date  \\\n",
       "25   B09ZHLXPNQ       3  2024-05-26   \n",
       "129  B0CXJDX8XY       5  2024-05-19   \n",
       "41   B0822KRN8Q       5  2024-06-04   \n",
       "\n",
       "                                           review_text  length  \\\n",
       "25   Difficult to understand I really tried but cou...      95   \n",
       "129  A decent upgrade to a Pixel 6a So my review is...    1834   \n",
       "41   Wonderful I ordered the large to xl but next t...     146   \n",
       "\n",
       "                                                tokens  num_tokens  \n",
       "25   [difficult, understand, really, tried, couldn,...          10  \n",
       "129  [decent, upgrade, fixed, a, review, comparison...         170  \n",
       "41   [wonderful, ordered, large, ll, next, time, or...          19  "
      ]
     },
     "execution_count": 35,
     "metadata": {},
     "output_type": "execute_result"
    }
   ],
   "source": [
    "# Checking text has been processed correctly\n",
    "df.sample(3)"
   ]
  },
  {
   "cell_type": "markdown",
   "id": "ec551b06",
   "metadata": {},
   "source": [
    "#### Word Frequency Analysis -"
   ]
  },
  {
   "cell_type": "code",
   "execution_count": 38,
   "id": "31372b10",
   "metadata": {},
   "outputs": [
    {
     "data": {
      "text/html": [
       "<div>\n",
       "<style scoped>\n",
       "    .dataframe tbody tr th:only-of-type {\n",
       "        vertical-align: middle;\n",
       "    }\n",
       "\n",
       "    .dataframe tbody tr th {\n",
       "        vertical-align: top;\n",
       "    }\n",
       "\n",
       "    .dataframe thead th {\n",
       "        text-align: right;\n",
       "    }\n",
       "</style>\n",
       "<table border=\"1\" class=\"dataframe\">\n",
       "  <thead>\n",
       "    <tr style=\"text-align: right;\">\n",
       "      <th></th>\n",
       "      <th>count</th>\n",
       "    </tr>\n",
       "  </thead>\n",
       "  <tbody>\n",
       "    <tr>\n",
       "      <th>great</th>\n",
       "      <td>50</td>\n",
       "    </tr>\n",
       "    <tr>\n",
       "      <th>phone</th>\n",
       "      <td>49</td>\n",
       "    </tr>\n",
       "    <tr>\n",
       "      <th>good</th>\n",
       "      <td>43</td>\n",
       "    </tr>\n",
       "    <tr>\n",
       "      <th>book</th>\n",
       "      <td>32</td>\n",
       "    </tr>\n",
       "    <tr>\n",
       "      <th>a</th>\n",
       "      <td>28</td>\n",
       "    </tr>\n",
       "    <tr>\n",
       "      <th>quality</th>\n",
       "      <td>25</td>\n",
       "    </tr>\n",
       "    <tr>\n",
       "      <th>really</th>\n",
       "      <td>24</td>\n",
       "    </tr>\n",
       "    <tr>\n",
       "      <th>one</th>\n",
       "      <td>24</td>\n",
       "    </tr>\n",
       "    <tr>\n",
       "      <th>use</th>\n",
       "      <td>24</td>\n",
       "    </tr>\n",
       "    <tr>\n",
       "      <th>well</th>\n",
       "      <td>22</td>\n",
       "    </tr>\n",
       "    <tr>\n",
       "      <th>like</th>\n",
       "      <td>20</td>\n",
       "    </tr>\n",
       "    <tr>\n",
       "      <th>fixed</th>\n",
       "      <td>20</td>\n",
       "    </tr>\n",
       "    <tr>\n",
       "      <th>time</th>\n",
       "      <td>20</td>\n",
       "    </tr>\n",
       "    <tr>\n",
       "      <th>love</th>\n",
       "      <td>19</td>\n",
       "    </tr>\n",
       "    <tr>\n",
       "      <th>also</th>\n",
       "      <td>18</td>\n",
       "    </tr>\n",
       "  </tbody>\n",
       "</table>\n",
       "</div>"
      ],
      "text/plain": [
       "         count\n",
       "great       50\n",
       "phone       49\n",
       "good        43\n",
       "book        32\n",
       "a           28\n",
       "quality     25\n",
       "really      24\n",
       "one         24\n",
       "use         24\n",
       "well        22\n",
       "like        20\n",
       "fixed       20\n",
       "time        20\n",
       "love        19\n",
       "also        18"
      ]
     },
     "execution_count": 38,
     "metadata": {},
     "output_type": "execute_result"
    }
   ],
   "source": [
    "# Finding most frequent tokens\n",
    "counter = Counter()\n",
    "for n in range(len(df)):\n",
    "    counter.update(df['tokens'][n])\n",
    "\n",
    "# Creating dataframe to store count of words\n",
    "count_df = pd.DataFrame.from_dict(counter, orient='index', columns=['count'])\n",
    "count_df = count_df.sort_values('count', ascending = False)\n",
    "count_df.head(15)"
   ]
  },
  {
   "cell_type": "code",
   "execution_count": 43,
   "id": "7bfa165c",
   "metadata": {},
   "outputs": [
    {
     "data": {
      "text/html": [
       "<div>\n",
       "<style scoped>\n",
       "    .dataframe tbody tr th:only-of-type {\n",
       "        vertical-align: middle;\n",
       "    }\n",
       "\n",
       "    .dataframe tbody tr th {\n",
       "        vertical-align: top;\n",
       "    }\n",
       "\n",
       "    .dataframe thead th {\n",
       "        text-align: right;\n",
       "    }\n",
       "</style>\n",
       "<table border=\"1\" class=\"dataframe\">\n",
       "  <thead>\n",
       "    <tr style=\"text-align: right;\">\n",
       "      <th></th>\n",
       "      <th>count</th>\n",
       "    </tr>\n",
       "  </thead>\n",
       "  <tbody>\n",
       "    <tr>\n",
       "      <th>great</th>\n",
       "      <td>50</td>\n",
       "    </tr>\n",
       "    <tr>\n",
       "      <th>phone</th>\n",
       "      <td>49</td>\n",
       "    </tr>\n",
       "    <tr>\n",
       "      <th>good</th>\n",
       "      <td>43</td>\n",
       "    </tr>\n",
       "    <tr>\n",
       "      <th>book</th>\n",
       "      <td>32</td>\n",
       "    </tr>\n",
       "    <tr>\n",
       "      <th>quality</th>\n",
       "      <td>25</td>\n",
       "    </tr>\n",
       "    <tr>\n",
       "      <th>really</th>\n",
       "      <td>24</td>\n",
       "    </tr>\n",
       "    <tr>\n",
       "      <th>one</th>\n",
       "      <td>24</td>\n",
       "    </tr>\n",
       "    <tr>\n",
       "      <th>use</th>\n",
       "      <td>24</td>\n",
       "    </tr>\n",
       "    <tr>\n",
       "      <th>well</th>\n",
       "      <td>22</td>\n",
       "    </tr>\n",
       "    <tr>\n",
       "      <th>like</th>\n",
       "      <td>20</td>\n",
       "    </tr>\n",
       "    <tr>\n",
       "      <th>fixed</th>\n",
       "      <td>20</td>\n",
       "    </tr>\n",
       "    <tr>\n",
       "      <th>time</th>\n",
       "      <td>20</td>\n",
       "    </tr>\n",
       "    <tr>\n",
       "      <th>love</th>\n",
       "      <td>19</td>\n",
       "    </tr>\n",
       "    <tr>\n",
       "      <th>camera</th>\n",
       "      <td>18</td>\n",
       "    </tr>\n",
       "    <tr>\n",
       "      <th>features</th>\n",
       "      <td>17</td>\n",
       "    </tr>\n",
       "  </tbody>\n",
       "</table>\n",
       "</div>"
      ],
      "text/plain": [
       "          count\n",
       "great        50\n",
       "phone        49\n",
       "good         43\n",
       "book         32\n",
       "quality      25\n",
       "really       24\n",
       "one          24\n",
       "use          24\n",
       "well         22\n",
       "like         20\n",
       "fixed        20\n",
       "time         20\n",
       "love         19\n",
       "camera       18\n",
       "features     17"
      ]
     },
     "execution_count": 43,
     "metadata": {},
     "output_type": "execute_result"
    }
   ],
   "source": [
    "# Removing 'a' and 'also' from the count dataframe\n",
    "count_df = count_df.drop(['a', 'also'])\n",
    "count_df.head(15)"
   ]
  },
  {
   "cell_type": "code",
   "execution_count": 44,
   "id": "bb146b24",
   "metadata": {},
   "outputs": [
    {
     "data": {
      "image/png": "[encoded data removed]",
      "text/plain": [
       "<Figure size 800x300 with 1 Axes>"
      ]
     },
     "metadata": {},
     "output_type": "display_data"
    }
   ],
   "source": [
    "# Creating bar chart for count of words\n",
    "sns.set_style(\"darkgrid\")\n",
    "ax = count_df.head(15).plot(kind='bar', width=0.8, figsize=(8,3))\n",
    "ax.set(xlabel='Token', ylabel='Frequency', title='Top 15 Words')\n",
    "plt.show()"
   ]
  },
  {
   "cell_type": "code",
   "execution_count": 56,
   "id": "a86a952a",
   "metadata": {},
   "outputs": [],
   "source": [
    "# Finding month reviews were created\n",
    "df['review_month'] = df['review_date'].dt.to_period('M')\n",
    "\n",
    "# Creating dictionary for number of word mentions per month\n",
    "word_counts_by_month = {}\n",
    "for index, row in df.iterrows():\n",
    "    month = row['review_month']\n",
    "    words = row['tokens']\n",
    "    if month not in word_counts_by_month:\n",
    "        word_counts_by_month[month] = Counter()\n",
    "    word_counts_by_month[month].update(words)\n",
    "\n",
    "# Converting the count of words by month to dataframe\n",
    "word_counts_month_df = pd.DataFrame(word_counts_by_month).fillna(0).astype(int)\n",
    "\n",
    "# Deleting 'a' and 'also' from df\n",
    "word_counts_month_df = word_counts_month_df.drop(['a', 'also'])"
   ]
  },
  {
   "cell_type": "code",
   "execution_count": 57,
   "id": "62ec87d6",
   "metadata": {},
   "outputs": [
    {
     "data": {
      "image/png": "[encoded data removed]",
      "text/plain": [
       "<Figure size 1200x800 with 2 Axes>"
      ]
     },
     "metadata": {},
     "output_type": "display_data"
    }
   ],
   "source": [
    "# Plotting heatmap to show words used by month\n",
    "# Finding most used words to use in heatmap\n",
    "top_words = word_counts_month_df.sum(axis=1).sort_values(ascending=False).head(10).index\n",
    "top_word_counts_month_df = word_counts_month_df.loc[top_words]\n",
    "\n",
    "# Creating and customising heatmap\n",
    "plt.figure(figsize=(12, 8))\n",
    "sns.heatmap(top_word_counts_month_df, cmap=\"Reds\", annot=True, fmt=\"d\")\n",
    "plt.title(\"Word Usage Over Time (by Month)\")\n",
    "plt.xlabel(\"Month\")\n",
    "plt.ylabel(\"Words\")\n",
    "plt.show()"
   ]
  },
  {
   "cell_type": "markdown",
   "id": "7b4a3002",
   "metadata": {},
   "source": [
    "#### TF-IDF -"
   ]
  },
  {
   "cell_type": "code",
   "execution_count": 68,
   "id": "447ec606",
   "metadata": {},
   "outputs": [],
   "source": [
    "# Calculating DF and IDF values and adding to dataframe\n",
    "counter = Counter()\n",
    "for doc in df['tokens']:\n",
    "    tokens = doc\n",
    "    counter.update(tokens)\n",
    "\n",
    "idf_df = pd.DataFrame.from_dict(counter, orient='index', columns=['df'])\n",
    "idf_df['idf'] = np.log(len(df)/idf_df['df'])+0.1\n",
    "idf_df.index.name = 'token'"
   ]
  },
  {
   "cell_type": "code",
   "execution_count": 69,
   "id": "8185b5b9",
   "metadata": {},
   "outputs": [
    {
     "data": {
      "text/html": [
       "<div>\n",
       "<style scoped>\n",
       "    .dataframe tbody tr th:only-of-type {\n",
       "        vertical-align: middle;\n",
       "    }\n",
       "\n",
       "    .dataframe tbody tr th {\n",
       "        vertical-align: top;\n",
       "    }\n",
       "\n",
       "    .dataframe thead th {\n",
       "        text-align: right;\n",
       "    }\n",
       "</style>\n",
       "<table border=\"1\" class=\"dataframe\">\n",
       "  <thead>\n",
       "    <tr style=\"text-align: right;\">\n",
       "      <th></th>\n",
       "      <th>df</th>\n",
       "      <th>idf</th>\n",
       "    </tr>\n",
       "    <tr>\n",
       "      <th>token</th>\n",
       "      <th></th>\n",
       "      <th></th>\n",
       "    </tr>\n",
       "  </thead>\n",
       "  <tbody>\n",
       "    <tr>\n",
       "      <th>sectional</th>\n",
       "      <td>1</td>\n",
       "      <td>5.110635</td>\n",
       "    </tr>\n",
       "    <tr>\n",
       "      <th>purchasing</th>\n",
       "      <td>2</td>\n",
       "      <td>4.417488</td>\n",
       "    </tr>\n",
       "    <tr>\n",
       "      <th>while</th>\n",
       "      <td>1</td>\n",
       "      <td>5.110635</td>\n",
       "    </tr>\n",
       "    <tr>\n",
       "      <th>weekend</th>\n",
       "      <td>1</td>\n",
       "      <td>5.110635</td>\n",
       "    </tr>\n",
       "    <tr>\n",
       "      <th>likes</th>\n",
       "      <td>1</td>\n",
       "      <td>5.110635</td>\n",
       "    </tr>\n",
       "  </tbody>\n",
       "</table>\n",
       "</div>"
      ],
      "text/plain": [
       "            df       idf\n",
       "token                   \n",
       "sectional    1  5.110635\n",
       "purchasing   2  4.417488\n",
       "while        1  5.110635\n",
       "weekend      1  5.110635\n",
       "likes        1  5.110635"
      ]
     },
     "execution_count": 69,
     "metadata": {},
     "output_type": "execute_result"
    }
   ],
   "source": [
    "# Printing sample of IDF dataframe\n",
    "idf_df.sample(5)"
   ]
  },
  {
   "cell_type": "code",
   "execution_count": 70,
   "id": "6f66215e",
   "metadata": {},
   "outputs": [
    {
     "data": {
      "text/html": [
       "<div>\n",
       "<style scoped>\n",
       "    .dataframe tbody tr th:only-of-type {\n",
       "        vertical-align: middle;\n",
       "    }\n",
       "\n",
       "    .dataframe tbody tr th {\n",
       "        vertical-align: top;\n",
       "    }\n",
       "\n",
       "    .dataframe thead th {\n",
       "        text-align: right;\n",
       "    }\n",
       "</style>\n",
       "<table border=\"1\" class=\"dataframe\">\n",
       "  <thead>\n",
       "    <tr style=\"text-align: right;\">\n",
       "      <th></th>\n",
       "      <th>count</th>\n",
       "      <th>df</th>\n",
       "      <th>idf</th>\n",
       "      <th>tf-idf</th>\n",
       "    </tr>\n",
       "  </thead>\n",
       "  <tbody>\n",
       "    <tr>\n",
       "      <th>great</th>\n",
       "      <td>50</td>\n",
       "      <td>50</td>\n",
       "      <td>1.198612</td>\n",
       "      <td>59.930614</td>\n",
       "    </tr>\n",
       "    <tr>\n",
       "      <th>phone</th>\n",
       "      <td>49</td>\n",
       "      <td>49</td>\n",
       "      <td>1.218815</td>\n",
       "      <td>59.721935</td>\n",
       "    </tr>\n",
       "    <tr>\n",
       "      <th>good</th>\n",
       "      <td>43</td>\n",
       "      <td>43</td>\n",
       "      <td>1.349435</td>\n",
       "      <td>58.025713</td>\n",
       "    </tr>\n",
       "    <tr>\n",
       "      <th>book</th>\n",
       "      <td>32</td>\n",
       "      <td>32</td>\n",
       "      <td>1.644899</td>\n",
       "      <td>52.636781</td>\n",
       "    </tr>\n",
       "    <tr>\n",
       "      <th>quality</th>\n",
       "      <td>25</td>\n",
       "      <td>25</td>\n",
       "      <td>1.891759</td>\n",
       "      <td>47.293987</td>\n",
       "    </tr>\n",
       "  </tbody>\n",
       "</table>\n",
       "</div>"
      ],
      "text/plain": [
       "         count  df       idf     tf-idf\n",
       "great       50  50  1.198612  59.930614\n",
       "phone       49  49  1.218815  59.721935\n",
       "good        43  43  1.349435  58.025713\n",
       "book        32  32  1.644899  52.636781\n",
       "quality     25  25  1.891759  47.293987"
      ]
     },
     "execution_count": 70,
     "metadata": {},
     "output_type": "execute_result"
    }
   ],
   "source": [
    "# Calculating TF-IDF values and adding to same dataframe\n",
    "tf_idf_df = count_df.join(idf_df)\n",
    "tf_idf_df['tf-idf'] = tf_idf_df['count']*tf_idf_df['idf']\n",
    "tf_idf_df.head()"
   ]
  },
  {
   "cell_type": "markdown",
   "id": "3d62f9f5",
   "metadata": {},
   "source": [
    "#### N-Grams -"
   ]
  },
  {
   "cell_type": "code",
   "execution_count": 71,
   "id": "e71eec32",
   "metadata": {},
   "outputs": [],
   "source": [
    "# Defining function for bigrams\n",
    "def bigrams(tokens, n=2, sep=' '):\n",
    "    return [sep.join(ngram) for ngram in zip(*[tokens[i:] for i in range(n)])]"
   ]
  },
  {
   "cell_type": "code",
   "execution_count": 72,
   "id": "2dbac1e7",
   "metadata": {},
   "outputs": [
    {
     "data": {
      "text/html": [
       "<div>\n",
       "<style scoped>\n",
       "    .dataframe tbody tr th:only-of-type {\n",
       "        vertical-align: middle;\n",
       "    }\n",
       "\n",
       "    .dataframe tbody tr th {\n",
       "        vertical-align: top;\n",
       "    }\n",
       "\n",
       "    .dataframe thead th {\n",
       "        text-align: right;\n",
       "    }\n",
       "</style>\n",
       "<table border=\"1\" class=\"dataframe\">\n",
       "  <thead>\n",
       "    <tr style=\"text-align: right;\">\n",
       "      <th></th>\n",
       "      <th>asin</th>\n",
       "      <th>rating</th>\n",
       "      <th>review_date</th>\n",
       "      <th>review_text</th>\n",
       "      <th>length</th>\n",
       "      <th>tokens</th>\n",
       "      <th>num_tokens</th>\n",
       "      <th>review_month</th>\n",
       "      <th>bigrams</th>\n",
       "    </tr>\n",
       "  </thead>\n",
       "  <tbody>\n",
       "    <tr>\n",
       "      <th>0</th>\n",
       "      <td>B0BH7VSYVZ</td>\n",
       "      <td>5</td>\n",
       "      <td>2024-06-06</td>\n",
       "      <td>wow! Woah! What a rollercoaster of a book!It w...</td>\n",
       "      <td>307</td>\n",
       "      <td>[now, noah, rollercoaster, booklet, creep, int...</td>\n",
       "      <td>29</td>\n",
       "      <td>2024-06</td>\n",
       "      <td>[now noah, noah rollercoaster, rollercoaster b...</td>\n",
       "    </tr>\n",
       "    <tr>\n",
       "      <th>1</th>\n",
       "      <td>B0BH7VSYVZ</td>\n",
       "      <td>2</td>\n",
       "      <td>2024-06-06</td>\n",
       "      <td>Poor writing Lack of any character depth or a ...</td>\n",
       "      <td>62</td>\n",
       "      <td>[poor, writing, lack, character, depth, challe...</td>\n",
       "      <td>7</td>\n",
       "      <td>2024-06</td>\n",
       "      <td>[poor writing, writing lack, lack character, c...</td>\n",
       "    </tr>\n",
       "    <tr>\n",
       "      <th>2</th>\n",
       "      <td>B0BH7VSYVZ</td>\n",
       "      <td>5</td>\n",
       "      <td>2024-06-05</td>\n",
       "      <td>Amazing!! Amazing book, had me gripped from th...</td>\n",
       "      <td>136</td>\n",
       "      <td>[amazing, amazing, book, gripped, first, word!...</td>\n",
       "      <td>14</td>\n",
       "      <td>2024-06</td>\n",
       "      <td>[amazing amazing, amazing book, book gripped, ...</td>\n",
       "    </tr>\n",
       "    <tr>\n",
       "      <th>3</th>\n",
       "      <td>B0BH7VSYVZ</td>\n",
       "      <td>5</td>\n",
       "      <td>2024-06-05</td>\n",
       "      <td>Great story I loved this book. Lisa Jewell has...</td>\n",
       "      <td>72</td>\n",
       "      <td>[great, story, loved, book, lisa, jewel, writt...</td>\n",
       "      <td>9</td>\n",
       "      <td>2024-06</td>\n",
       "      <td>[great story, story loved, loved book, book li...</td>\n",
       "    </tr>\n",
       "    <tr>\n",
       "      <th>4</th>\n",
       "      <td>B0BH7VSYVZ</td>\n",
       "      <td>5</td>\n",
       "      <td>2024-06-04</td>\n",
       "      <td>Brilliant What a cracker of a book.  Lisa Jewe...</td>\n",
       "      <td>65</td>\n",
       "      <td>[brilliant, cracked, book, lisa, jewel, best]</td>\n",
       "      <td>6</td>\n",
       "      <td>2024-06</td>\n",
       "      <td>[brilliant cracked, cracked book, book lisa, l...</td>\n",
       "    </tr>\n",
       "  </tbody>\n",
       "</table>\n",
       "</div>"
      ],
      "text/plain": [
       "         asin  rating review_date  \\\n",
       "0  B0BH7VSYVZ       5  2024-06-06   \n",
       "1  B0BH7VSYVZ       2  2024-06-06   \n",
       "2  B0BH7VSYVZ       5  2024-06-05   \n",
       "3  B0BH7VSYVZ       5  2024-06-05   \n",
       "4  B0BH7VSYVZ       5  2024-06-04   \n",
       "\n",
       "                                         review_text  length  \\\n",
       "0  wow! Woah! What a rollercoaster of a book!It w...     307   \n",
       "1  Poor writing Lack of any character depth or a ...      62   \n",
       "2  Amazing!! Amazing book, had me gripped from th...     136   \n",
       "3  Great story I loved this book. Lisa Jewell has...      72   \n",
       "4  Brilliant What a cracker of a book.  Lisa Jewe...      65   \n",
       "\n",
       "                                              tokens  num_tokens review_month  \\\n",
       "0  [now, noah, rollercoaster, booklet, creep, int...          29      2024-06   \n",
       "1  [poor, writing, lack, character, depth, challe...           7      2024-06   \n",
       "2  [amazing, amazing, book, gripped, first, word!...          14      2024-06   \n",
       "3  [great, story, loved, book, lisa, jewel, writt...           9      2024-06   \n",
       "4      [brilliant, cracked, book, lisa, jewel, best]           6      2024-06   \n",
       "\n",
       "                                             bigrams  \n",
       "0  [now noah, noah rollercoaster, rollercoaster b...  \n",
       "1  [poor writing, writing lack, lack character, c...  \n",
       "2  [amazing amazing, amazing book, book gripped, ...  \n",
       "3  [great story, story loved, loved book, book li...  \n",
       "4  [brilliant cracked, cracked book, book lisa, l...  "
      ]
     },
     "execution_count": 72,
     "metadata": {},
     "output_type": "execute_result"
    }
   ],
   "source": [
    "# Finding bigrams for each review\n",
    "df['bigrams'] = df['tokens'].apply(bigrams)\n",
    "df.head()"
   ]
  },
  {
   "cell_type": "code",
   "execution_count": 73,
   "id": "3627464d",
   "metadata": {},
   "outputs": [],
   "source": [
    "bigram_counter = Counter()\n",
    "for n in range(len(df)):\n",
    "    bigram_counter.update(df['bigrams'][n])"
   ]
  },
  {
   "cell_type": "code",
   "execution_count": 74,
   "id": "95528815",
   "metadata": {},
   "outputs": [
    {
     "data": {
      "text/html": [
       "<div>\n",
       "<style scoped>\n",
       "    .dataframe tbody tr th:only-of-type {\n",
       "        vertical-align: middle;\n",
       "    }\n",
       "\n",
       "    .dataframe tbody tr th {\n",
       "        vertical-align: top;\n",
       "    }\n",
       "\n",
       "    .dataframe thead th {\n",
       "        text-align: right;\n",
       "    }\n",
       "</style>\n",
       "<table border=\"1\" class=\"dataframe\">\n",
       "  <thead>\n",
       "    <tr style=\"text-align: right;\">\n",
       "      <th></th>\n",
       "      <th>count</th>\n",
       "    </tr>\n",
       "  </thead>\n",
       "  <tbody>\n",
       "    <tr>\n",
       "      <th>fixed a</th>\n",
       "      <td>14</td>\n",
       "    </tr>\n",
       "    <tr>\n",
       "      <th>air frye</th>\n",
       "      <td>10</td>\n",
       "    </tr>\n",
       "    <tr>\n",
       "      <th>goose fixed</th>\n",
       "      <td>9</td>\n",
       "    </tr>\n",
       "    <tr>\n",
       "      <th>battery life</th>\n",
       "      <td>6</td>\n",
       "    </tr>\n",
       "    <tr>\n",
       "      <th>old phone</th>\n",
       "      <td>5</td>\n",
       "    </tr>\n",
       "  </tbody>\n",
       "</table>\n",
       "</div>"
      ],
      "text/plain": [
       "              count\n",
       "fixed a          14\n",
       "air frye         10\n",
       "goose fixed       9\n",
       "battery life      6\n",
       "old phone         5"
      ]
     },
     "execution_count": 74,
     "metadata": {},
     "output_type": "execute_result"
    }
   ],
   "source": [
    "bigram_count_df = pd.DataFrame.from_dict(bigram_counter, orient='index', columns=['count'])\n",
    "bigram_count_df = bigram_count_df.sort_values('count', ascending = False)\n",
    "bigram_count_df.head()"
   ]
  },
  {
   "cell_type": "code",
   "execution_count": 75,
   "id": "a6457da5",
   "metadata": {},
   "outputs": [
    {
     "data": {
      "image/png": "[encoded data removed]",
      "text/plain": [
       "<Figure size 800x300 with 1 Axes>"
      ]
     },
     "metadata": {},
     "output_type": "display_data"
    }
   ],
   "source": [
    "# Creating bar chart for count of bigrams\n",
    "sns.set_style(\"darkgrid\")\n",
    "ax = bigram_count_df.head(10).plot(kind='bar', width=0.8, figsize=(8,3))\n",
    "ax.set(xlabel='Bigram', ylabel='Frequency', title='Top 10 Bigrams')\n",
    "plt.show()"
   ]
  },
  {
   "cell_type": "code",
   "execution_count": 76,
   "id": "8ec4a801",
   "metadata": {},
   "outputs": [],
   "source": [
    "# Defining function for trigrams\n",
    "def trigrams(tokens, n=3, sep=' '):\n",
    "    return [sep.join(ngram) for ngram in zip(*[tokens[i:] for i in range(n)])]"
   ]
  },
  {
   "cell_type": "code",
   "execution_count": 77,
   "id": "635d18ae",
   "metadata": {},
   "outputs": [
    {
     "data": {
      "text/html": [
       "<div>\n",
       "<style scoped>\n",
       "    .dataframe tbody tr th:only-of-type {\n",
       "        vertical-align: middle;\n",
       "    }\n",
       "\n",
       "    .dataframe tbody tr th {\n",
       "        vertical-align: top;\n",
       "    }\n",
       "\n",
       "    .dataframe thead th {\n",
       "        text-align: right;\n",
       "    }\n",
       "</style>\n",
       "<table border=\"1\" class=\"dataframe\">\n",
       "  <thead>\n",
       "    <tr style=\"text-align: right;\">\n",
       "      <th></th>\n",
       "      <th>asin</th>\n",
       "      <th>rating</th>\n",
       "      <th>review_date</th>\n",
       "      <th>review_text</th>\n",
       "      <th>length</th>\n",
       "      <th>tokens</th>\n",
       "      <th>num_tokens</th>\n",
       "      <th>review_month</th>\n",
       "      <th>bigrams</th>\n",
       "      <th>trigrams</th>\n",
       "    </tr>\n",
       "  </thead>\n",
       "  <tbody>\n",
       "    <tr>\n",
       "      <th>0</th>\n",
       "      <td>B0BH7VSYVZ</td>\n",
       "      <td>5</td>\n",
       "      <td>2024-06-06</td>\n",
       "      <td>wow! Woah! What a rollercoaster of a book!It w...</td>\n",
       "      <td>307</td>\n",
       "      <td>[now, noah, rollercoaster, booklet, creep, int...</td>\n",
       "      <td>29</td>\n",
       "      <td>2024-06</td>\n",
       "      <td>[now noah, noah rollercoaster, rollercoaster b...</td>\n",
       "      <td>[now noah rollercoaster, noah rollercoaster bo...</td>\n",
       "    </tr>\n",
       "    <tr>\n",
       "      <th>1</th>\n",
       "      <td>B0BH7VSYVZ</td>\n",
       "      <td>2</td>\n",
       "      <td>2024-06-06</td>\n",
       "      <td>Poor writing Lack of any character depth or a ...</td>\n",
       "      <td>62</td>\n",
       "      <td>[poor, writing, lack, character, depth, challe...</td>\n",
       "      <td>7</td>\n",
       "      <td>2024-06</td>\n",
       "      <td>[poor writing, writing lack, lack character, c...</td>\n",
       "      <td>[poor writing lack, writing lack character, la...</td>\n",
       "    </tr>\n",
       "    <tr>\n",
       "      <th>2</th>\n",
       "      <td>B0BH7VSYVZ</td>\n",
       "      <td>5</td>\n",
       "      <td>2024-06-05</td>\n",
       "      <td>Amazing!! Amazing book, had me gripped from th...</td>\n",
       "      <td>136</td>\n",
       "      <td>[amazing, amazing, book, gripped, first, word!...</td>\n",
       "      <td>14</td>\n",
       "      <td>2024-06</td>\n",
       "      <td>[amazing amazing, amazing book, book gripped, ...</td>\n",
       "      <td>[amazing amazing book, amazing book gripped, b...</td>\n",
       "    </tr>\n",
       "    <tr>\n",
       "      <th>3</th>\n",
       "      <td>B0BH7VSYVZ</td>\n",
       "      <td>5</td>\n",
       "      <td>2024-06-05</td>\n",
       "      <td>Great story I loved this book. Lisa Jewell has...</td>\n",
       "      <td>72</td>\n",
       "      <td>[great, story, loved, book, lisa, jewel, writt...</td>\n",
       "      <td>9</td>\n",
       "      <td>2024-06</td>\n",
       "      <td>[great story, story loved, loved book, book li...</td>\n",
       "      <td>[great story loved, story loved book, loved bo...</td>\n",
       "    </tr>\n",
       "    <tr>\n",
       "      <th>4</th>\n",
       "      <td>B0BH7VSYVZ</td>\n",
       "      <td>5</td>\n",
       "      <td>2024-06-04</td>\n",
       "      <td>Brilliant What a cracker of a book.  Lisa Jewe...</td>\n",
       "      <td>65</td>\n",
       "      <td>[brilliant, cracked, book, lisa, jewel, best]</td>\n",
       "      <td>6</td>\n",
       "      <td>2024-06</td>\n",
       "      <td>[brilliant cracked, cracked book, book lisa, l...</td>\n",
       "      <td>[brilliant cracked book, cracked book lisa, bo...</td>\n",
       "    </tr>\n",
       "    <tr>\n",
       "      <th>...</th>\n",
       "      <td>...</td>\n",
       "      <td>...</td>\n",
       "      <td>...</td>\n",
       "      <td>...</td>\n",
       "      <td>...</td>\n",
       "      <td>...</td>\n",
       "      <td>...</td>\n",
       "      <td>...</td>\n",
       "      <td>...</td>\n",
       "      <td>...</td>\n",
       "    </tr>\n",
       "    <tr>\n",
       "      <th>145</th>\n",
       "      <td>B0BRKJNRGT</td>\n",
       "      <td>5</td>\n",
       "      <td>2024-05-31</td>\n",
       "      <td>Good product Exactly what I wanted really good...</td>\n",
       "      <td>54</td>\n",
       "      <td>[good, product, exactly, wanted, really, good,...</td>\n",
       "      <td>7</td>\n",
       "      <td>2024-05</td>\n",
       "      <td>[good product, product exactly, exactly wanted...</td>\n",
       "      <td>[good product exactly, product exactly wanted,...</td>\n",
       "    </tr>\n",
       "    <tr>\n",
       "      <th>146</th>\n",
       "      <td>B0BRKJNRGT</td>\n",
       "      <td>5</td>\n",
       "      <td>2024-05-30</td>\n",
       "      <td>Really fast Does what it days on the tin, but ...</td>\n",
       "      <td>118</td>\n",
       "      <td>[really, fast, days, tiny, one, actually, real...</td>\n",
       "      <td>12</td>\n",
       "      <td>2024-05</td>\n",
       "      <td>[really fast, fast days, days tiny, tiny one, ...</td>\n",
       "      <td>[really fast days, fast days tiny, days tiny o...</td>\n",
       "    </tr>\n",
       "    <tr>\n",
       "      <th>147</th>\n",
       "      <td>B0BRKJNRGT</td>\n",
       "      <td>4</td>\n",
       "      <td>2024-05-29</td>\n",
       "      <td>Great product It does as it says on the box bu...</td>\n",
       "      <td>170</td>\n",
       "      <td>[great, product, says, box, wastage, seems, li...</td>\n",
       "      <td>18</td>\n",
       "      <td>2024-05</td>\n",
       "      <td>[great product, product says, says box, box wa...</td>\n",
       "      <td>[great product says, product says box, says bo...</td>\n",
       "    </tr>\n",
       "    <tr>\n",
       "      <th>148</th>\n",
       "      <td>B0BRKJNRGT</td>\n",
       "      <td>5</td>\n",
       "      <td>2024-05-29</td>\n",
       "      <td>Great transaction. Does what it says. Cheaper ...</td>\n",
       "      <td>56</td>\n",
       "      <td>[great, transaction, says, cheaper, shop]</td>\n",
       "      <td>5</td>\n",
       "      <td>2024-05</td>\n",
       "      <td>[great transaction, transaction says, says che...</td>\n",
       "      <td>[great transaction says, transaction says chea...</td>\n",
       "    </tr>\n",
       "    <tr>\n",
       "      <th>149</th>\n",
       "      <td>B0BRKJNRGT</td>\n",
       "      <td>5</td>\n",
       "      <td>2024-05-29</td>\n",
       "      <td>Works very well Excellent product fast charging</td>\n",
       "      <td>47</td>\n",
       "      <td>[works, well, excellent, product, fast, charging]</td>\n",
       "      <td>6</td>\n",
       "      <td>2024-05</td>\n",
       "      <td>[works well, well excellent, excellent product...</td>\n",
       "      <td>[works well excellent, well excellent product,...</td>\n",
       "    </tr>\n",
       "  </tbody>\n",
       "</table>\n",
       "<p>150 rows × 10 columns</p>\n",
       "</div>"
      ],
      "text/plain": [
       "           asin  rating review_date  \\\n",
       "0    B0BH7VSYVZ       5  2024-06-06   \n",
       "1    B0BH7VSYVZ       2  2024-06-06   \n",
       "2    B0BH7VSYVZ       5  2024-06-05   \n",
       "3    B0BH7VSYVZ       5  2024-06-05   \n",
       "4    B0BH7VSYVZ       5  2024-06-04   \n",
       "..          ...     ...         ...   \n",
       "145  B0BRKJNRGT       5  2024-05-31   \n",
       "146  B0BRKJNRGT       5  2024-05-30   \n",
       "147  B0BRKJNRGT       4  2024-05-29   \n",
       "148  B0BRKJNRGT       5  2024-05-29   \n",
       "149  B0BRKJNRGT       5  2024-05-29   \n",
       "\n",
       "                                           review_text  length  \\\n",
       "0    wow! Woah! What a rollercoaster of a book!It w...     307   \n",
       "1    Poor writing Lack of any character depth or a ...      62   \n",
       "2    Amazing!! Amazing book, had me gripped from th...     136   \n",
       "3    Great story I loved this book. Lisa Jewell has...      72   \n",
       "4    Brilliant What a cracker of a book.  Lisa Jewe...      65   \n",
       "..                                                 ...     ...   \n",
       "145  Good product Exactly what I wanted really good...      54   \n",
       "146  Really fast Does what it days on the tin, but ...     118   \n",
       "147  Great product It does as it says on the box bu...     170   \n",
       "148  Great transaction. Does what it says. Cheaper ...      56   \n",
       "149    Works very well Excellent product fast charging      47   \n",
       "\n",
       "                                                tokens  num_tokens  \\\n",
       "0    [now, noah, rollercoaster, booklet, creep, int...          29   \n",
       "1    [poor, writing, lack, character, depth, challe...           7   \n",
       "2    [amazing, amazing, book, gripped, first, word!...          14   \n",
       "3    [great, story, loved, book, lisa, jewel, writt...           9   \n",
       "4        [brilliant, cracked, book, lisa, jewel, best]           6   \n",
       "..                                                 ...         ...   \n",
       "145  [good, product, exactly, wanted, really, good,...           7   \n",
       "146  [really, fast, days, tiny, one, actually, real...          12   \n",
       "147  [great, product, says, box, wastage, seems, li...          18   \n",
       "148          [great, transaction, says, cheaper, shop]           5   \n",
       "149  [works, well, excellent, product, fast, charging]           6   \n",
       "\n",
       "    review_month                                            bigrams  \\\n",
       "0        2024-06  [now noah, noah rollercoaster, rollercoaster b...   \n",
       "1        2024-06  [poor writing, writing lack, lack character, c...   \n",
       "2        2024-06  [amazing amazing, amazing book, book gripped, ...   \n",
       "3        2024-06  [great story, story loved, loved book, book li...   \n",
       "4        2024-06  [brilliant cracked, cracked book, book lisa, l...   \n",
       "..           ...                                                ...   \n",
       "145      2024-05  [good product, product exactly, exactly wanted...   \n",
       "146      2024-05  [really fast, fast days, days tiny, tiny one, ...   \n",
       "147      2024-05  [great product, product says, says box, box wa...   \n",
       "148      2024-05  [great transaction, transaction says, says che...   \n",
       "149      2024-05  [works well, well excellent, excellent product...   \n",
       "\n",
       "                                              trigrams  \n",
       "0    [now noah rollercoaster, noah rollercoaster bo...  \n",
       "1    [poor writing lack, writing lack character, la...  \n",
       "2    [amazing amazing book, amazing book gripped, b...  \n",
       "3    [great story loved, story loved book, loved bo...  \n",
       "4    [brilliant cracked book, cracked book lisa, bo...  \n",
       "..                                                 ...  \n",
       "145  [good product exactly, product exactly wanted,...  \n",
       "146  [really fast days, fast days tiny, days tiny o...  \n",
       "147  [great product says, product says box, says bo...  \n",
       "148  [great transaction says, transaction says chea...  \n",
       "149  [works well excellent, well excellent product,...  \n",
       "\n",
       "[150 rows x 10 columns]"
      ]
     },
     "execution_count": 77,
     "metadata": {},
     "output_type": "execute_result"
    }
   ],
   "source": [
    "# Finding trigrams for each review\n",
    "df['trigrams'] = df['tokens'].apply(trigrams)\n",
    "df"
   ]
  },
  {
   "cell_type": "code",
   "execution_count": 78,
   "id": "d06204fa",
   "metadata": {},
   "outputs": [],
   "source": [
    "trigram_counter = Counter()\n",
    "for n in range(len(df)):\n",
    "    trigram_counter.update(df['trigrams'][n])"
   ]
  },
  {
   "cell_type": "code",
   "execution_count": 79,
   "id": "c9a93a72",
   "metadata": {},
   "outputs": [
    {
     "data": {
      "text/html": [
       "<div>\n",
       "<style scoped>\n",
       "    .dataframe tbody tr th:only-of-type {\n",
       "        vertical-align: middle;\n",
       "    }\n",
       "\n",
       "    .dataframe tbody tr th {\n",
       "        vertical-align: top;\n",
       "    }\n",
       "\n",
       "    .dataframe thead th {\n",
       "        text-align: right;\n",
       "    }\n",
       "</style>\n",
       "<table border=\"1\" class=\"dataframe\">\n",
       "  <thead>\n",
       "    <tr style=\"text-align: right;\">\n",
       "      <th></th>\n",
       "      <th>count</th>\n",
       "    </tr>\n",
       "  </thead>\n",
       "  <tbody>\n",
       "    <tr>\n",
       "      <th>goose fixed a</th>\n",
       "      <td>7</td>\n",
       "    </tr>\n",
       "    <tr>\n",
       "      <th>smells like popcorn</th>\n",
       "      <td>2</td>\n",
       "    </tr>\n",
       "    <tr>\n",
       "      <th>leggings have ever</th>\n",
       "      <td>2</td>\n",
       "    </tr>\n",
       "    <tr>\n",
       "      <th>smartphone delivers fronts</th>\n",
       "      <td>2</td>\n",
       "    </tr>\n",
       "    <tr>\n",
       "      <th>high-quality smartphone delivers</th>\n",
       "      <td>2</td>\n",
       "    </tr>\n",
       "  </tbody>\n",
       "</table>\n",
       "</div>"
      ],
      "text/plain": [
       "                                  count\n",
       "goose fixed a                         7\n",
       "smells like popcorn                   2\n",
       "leggings have ever                    2\n",
       "smartphone delivers fronts            2\n",
       "high-quality smartphone delivers      2"
      ]
     },
     "execution_count": 79,
     "metadata": {},
     "output_type": "execute_result"
    }
   ],
   "source": [
    "trigram_count_df = pd.DataFrame.from_dict(trigram_counter, orient='index', columns=['count'])\n",
    "trigram_count_df = trigram_count_df.sort_values('count', ascending = False)\n",
    "trigram_count_df.head()"
   ]
  },
  {
   "cell_type": "code",
   "execution_count": 80,
   "id": "9e659975",
   "metadata": {},
   "outputs": [
    {
     "data": {
      "image/png": "[encoded data removed]",
      "text/plain": [
       "<Figure size 800x300 with 1 Axes>"
      ]
     },
     "metadata": {},
     "output_type": "display_data"
    }
   ],
   "source": [
    "# Creating bar chart for count of bigrams\n",
    "sns.set_style(\"darkgrid\")\n",
    "ax = trigram_count_df.head(10).plot(kind='bar', width=0.8, figsize=(8,3))\n",
    "ax.set(xlabel='Trigram', ylabel='Frequency', title='Top 10 Trigrams')\n",
    "plt.show()"
   ]
  },
  {
   "cell_type": "markdown",
   "id": "5eddc6e0",
   "metadata": {},
   "source": [
    "#### Sentiment Analysis -"
   ]
  },
  {
   "cell_type": "code",
   "execution_count": 82,
   "id": "6d9152f7",
   "metadata": {},
   "outputs": [],
   "source": [
    "df.loc[df['rating'] > 3, 'sentiment'] = 'positive'\n",
    "df.loc[df['rating'] < 3, 'sentiment'] = 'negative'\n",
    "df.loc[df['rating'] == 3, 'sentiment'] = 'neutral'"
   ]
  },
  {
   "cell_type": "code",
   "execution_count": 84,
   "id": "d7c61018",
   "metadata": {},
   "outputs": [
    {
     "data": {
      "text/plain": [
       "sentiment\n",
       "positive    116\n",
       "negative     24\n",
       "neutral      10\n",
       "Name: count, dtype: int64"
      ]
     },
     "execution_count": 84,
     "metadata": {},
     "output_type": "execute_result"
    }
   ],
   "source": [
    "df['sentiment'].value_counts()"
   ]
  },
  {
   "cell_type": "code",
   "execution_count": 85,
   "id": "6c11abf0",
   "metadata": {},
   "outputs": [],
   "source": [
    "# Splitting data into test and train\n",
    "X_train, X_test, Y_train, Y_test = train_test_split(df['review_text'],\n",
    "                                                    df['sentiment'],\n",
    "                                                    test_size=0.2,\n",
    "                                                    random_state=123,\n",
    "                                                    stratify=df['sentiment'])"
   ]
  },
  {
   "cell_type": "code",
   "execution_count": 86,
   "id": "79baded5",
   "metadata": {},
   "outputs": [
    {
     "data": {
      "text/plain": [
       "132    Annoying if you switch devices often Sound qua...\n",
       "55     Sack-like but breathable Baggy loose sack-like...\n",
       "104    If you want a scrub, by a different product......\n",
       "73     I really think this one was fake The one I rec...\n",
       "52                                      Poor Looks cheap\n",
       "                             ...                        \n",
       "67     Poor quality Does not remove dirt or sweat lik...\n",
       "15                                   Good book Good book\n",
       "75     Love it Smells really lovely and lasts. Clothe...\n",
       "25     Difficult to understand I really tried but cou...\n",
       "20     Beautiful What Grace and beauty this book port...\n",
       "Name: review_text, Length: 120, dtype: object"
      ]
     },
     "execution_count": 86,
     "metadata": {},
     "output_type": "execute_result"
    }
   ],
   "source": [
    "# Printing x train sample\n",
    "X_train"
   ]
  },
  {
   "cell_type": "code",
   "execution_count": 87,
   "id": "9fd430dc",
   "metadata": {},
   "outputs": [
    {
     "data": {
      "text/plain": [
       "11     A compelling Grisham tale This is a well devel...\n",
       "19     Good storyline Grisham books sometimes peter o...\n",
       "31                            Waterproof boots Like this\n",
       "111    Second pallet This is my 2nd palletLove the co...\n",
       "47     SINOPHANT High Waisted Leggings for Women I fo...\n",
       "16           everything liked everything delivery book +\n",
       "122    Brillant Camera & fun AI I have always had var...\n",
       "45        Leggings Amazing quality and fit for the price\n",
       "70                                    COMFORT GOOD PRICE\n",
       "113    Ok Too small size plate. I think according to ...\n",
       "26     The horrors of the first world war Homosexual ...\n",
       "78     value for money, top quality. Wait for the rig...\n",
       "38     Good buy Bought for use in a festival, I was o...\n",
       "4      Brilliant What a cracker of a book.  Lisa Jewe...\n",
       "131    one of the best headphone I've ever had so com...\n",
       "101    Amazing scent Change ur location to the US Ama...\n",
       "138    Not recommended I regret buying these headphon...\n",
       "53     Very poor quality Got lints after one wash, to...\n",
       "142                              fast delivery Very good\n",
       "95     Only received one out of the set When I opened...\n",
       "69     Not worth money It was 3/4 full only. We usual...\n",
       "146    Really fast Does what it days on the tin, but ...\n",
       "120    Great camera features This smartphone offers e...\n",
       "24     Beautifully written! \"In Memoriam\" by Alice Wi...\n",
       "100      Amazing Smells great. Works amazing. Lasts long\n",
       "125    It’s  Pixel Phone. Enough said!! It’s a Pixel....\n",
       "141                  Good quality Good quality and cheap\n",
       "85     Fantastic  air fryer Never cooked with an air ...\n",
       "92                       Works Not sticky, does the job.\n",
       "99     Great all over tan Much cheaper than in bootsL...\n",
       "Name: review_text, dtype: object"
      ]
     },
     "execution_count": 87,
     "metadata": {},
     "output_type": "execute_result"
    }
   ],
   "source": [
    "# Printing x test sample\n",
    "X_test"
   ]
  },
  {
   "cell_type": "code",
   "execution_count": 88,
   "id": "3a208875",
   "metadata": {},
   "outputs": [
    {
     "data": {
      "text/plain": [
       "132    positive\n",
       "55      neutral\n",
       "104    positive\n",
       "73     negative\n",
       "52     negative\n",
       "         ...   \n",
       "67     negative\n",
       "15     positive\n",
       "75     positive\n",
       "25      neutral\n",
       "20     positive\n",
       "Name: sentiment, Length: 120, dtype: object"
      ]
     },
     "execution_count": 88,
     "metadata": {},
     "output_type": "execute_result"
    }
   ],
   "source": [
    "# Printing y train sample\n",
    "Y_train"
   ]
  },
  {
   "cell_type": "code",
   "execution_count": 89,
   "id": "ced28ee6",
   "metadata": {},
   "outputs": [
    {
     "data": {
      "text/plain": [
       "sentiment\n",
       "positive    93\n",
       "negative    19\n",
       "neutral      8\n",
       "Name: count, dtype: int64"
      ]
     },
     "execution_count": 89,
     "metadata": {},
     "output_type": "execute_result"
    }
   ],
   "source": [
    "Y_train.value_counts()"
   ]
  },
  {
   "cell_type": "code",
   "execution_count": 90,
   "id": "9eb51e4f",
   "metadata": {},
   "outputs": [
    {
     "data": {
      "text/plain": [
       "11     positive\n",
       "19     positive\n",
       "31     positive\n",
       "111    positive\n",
       "47      neutral\n",
       "16     positive\n",
       "122    positive\n",
       "45     positive\n",
       "70     positive\n",
       "113     neutral\n",
       "26     negative\n",
       "78     positive\n",
       "38     positive\n",
       "4      positive\n",
       "131    positive\n",
       "101    positive\n",
       "138    negative\n",
       "53     negative\n",
       "142    positive\n",
       "95     negative\n",
       "69     negative\n",
       "146    positive\n",
       "120    positive\n",
       "24     positive\n",
       "100    positive\n",
       "125    positive\n",
       "141    positive\n",
       "85     positive\n",
       "92     positive\n",
       "99     positive\n",
       "Name: sentiment, dtype: object"
      ]
     },
     "execution_count": 90,
     "metadata": {},
     "output_type": "execute_result"
    }
   ],
   "source": [
    "# Printing y test sample\n",
    "Y_test"
   ]
  },
  {
   "cell_type": "code",
   "execution_count": 91,
   "id": "c2fac468",
   "metadata": {},
   "outputs": [
    {
     "data": {
      "text/plain": [
       "sentiment\n",
       "positive    23\n",
       "negative     5\n",
       "neutral      2\n",
       "Name: count, dtype: int64"
      ]
     },
     "execution_count": 91,
     "metadata": {},
     "output_type": "execute_result"
    }
   ],
   "source": [
    "Y_test.value_counts()"
   ]
  },
  {
   "cell_type": "code",
   "execution_count": 92,
   "id": "3eeb25c1",
   "metadata": {},
   "outputs": [],
   "source": [
    "# Vectorising text data\n",
    "tfidf = TfidfVectorizer()\n",
    "X_train_tf = tfidf.fit_transform(X_train)\n",
    "X_test_tf = tfidf.transform(X_test)"
   ]
  },
  {
   "cell_type": "code",
   "execution_count": 93,
   "id": "9fc33328",
   "metadata": {},
   "outputs": [
    {
     "name": "stderr",
     "output_type": "stream",
     "text": [
      "C:\\Users\\holly\\anaconda3\\lib\\site-packages\\sklearn\\svm\\_classes.py:32: FutureWarning: The default value of `dual` will change from `True` to `'auto'` in 1.5. Set the value of `dual` explicitly to suppress the warning.\n",
      "  warnings.warn(\n"
     ]
    },
    {
     "data": {
      "text/html": [
       "<style>#sk-container-id-1 {color: black;}#sk-container-id-1 pre{padding: 0;}#sk-container-id-1 div.sk-toggleable {background-color: white;}#sk-container-id-1 label.sk-toggleable__label {cursor: pointer;display: block;width: 100%;margin-bottom: 0;padding: 0.3em;box-sizing: border-box;text-align: center;}#sk-container-id-1 label.sk-toggleable__label-arrow:before {content: \"▸\";float: left;margin-right: 0.25em;color: #696969;}#sk-container-id-1 label.sk-toggleable__label-arrow:hover:before {color: black;}#sk-container-id-1 div.sk-estimator:hover label.sk-toggleable__label-arrow:before {color: black;}#sk-container-id-1 div.sk-toggleable__content {max-height: 0;max-width: 0;overflow: hidden;text-align: left;background-color: #f0f8ff;}#sk-container-id-1 div.sk-toggleable__content pre {margin: 0.2em;color: black;border-radius: 0.25em;background-color: #f0f8ff;}#sk-container-id-1 input.sk-toggleable__control:checked~div.sk-toggleable__content {max-height: 200px;max-width: 100%;overflow: auto;}#sk-container-id-1 input.sk-toggleable__control:checked~label.sk-toggleable__label-arrow:before {content: \"▾\";}#sk-container-id-1 div.sk-estimator input.sk-toggleable__control:checked~label.sk-toggleable__label {background-color: #d4ebff;}#sk-container-id-1 div.sk-label input.sk-toggleable__control:checked~label.sk-toggleable__label {background-color: #d4ebff;}#sk-container-id-1 input.sk-hidden--visually {border: 0;clip: rect(1px 1px 1px 1px);clip: rect(1px, 1px, 1px, 1px);height: 1px;margin: -1px;overflow: hidden;padding: 0;position: absolute;width: 1px;}#sk-container-id-1 div.sk-estimator {font-family: monospace;background-color: #f0f8ff;border: 1px dotted black;border-radius: 0.25em;box-sizing: border-box;margin-bottom: 0.5em;}#sk-container-id-1 div.sk-estimator:hover {background-color: #d4ebff;}#sk-container-id-1 div.sk-parallel-item::after {content: \"\";width: 100%;border-bottom: 1px solid gray;flex-grow: 1;}#sk-container-id-1 div.sk-label:hover label.sk-toggleable__label {background-color: #d4ebff;}#sk-container-id-1 div.sk-serial::before {content: \"\";position: absolute;border-left: 1px solid gray;box-sizing: border-box;top: 0;bottom: 0;left: 50%;z-index: 0;}#sk-container-id-1 div.sk-serial {display: flex;flex-direction: column;align-items: center;background-color: white;padding-right: 0.2em;padding-left: 0.2em;position: relative;}#sk-container-id-1 div.sk-item {position: relative;z-index: 1;}#sk-container-id-1 div.sk-parallel {display: flex;align-items: stretch;justify-content: center;background-color: white;position: relative;}#sk-container-id-1 div.sk-item::before, #sk-container-id-1 div.sk-parallel-item::before {content: \"\";position: absolute;border-left: 1px solid gray;box-sizing: border-box;top: 0;bottom: 0;left: 50%;z-index: -1;}#sk-container-id-1 div.sk-parallel-item {display: flex;flex-direction: column;z-index: 1;position: relative;background-color: white;}#sk-container-id-1 div.sk-parallel-item:first-child::after {align-self: flex-end;width: 50%;}#sk-container-id-1 div.sk-parallel-item:last-child::after {align-self: flex-start;width: 50%;}#sk-container-id-1 div.sk-parallel-item:only-child::after {width: 0;}#sk-container-id-1 div.sk-dashed-wrapped {border: 1px dashed gray;margin: 0 0.4em 0.5em 0.4em;box-sizing: border-box;padding-bottom: 0.4em;background-color: white;}#sk-container-id-1 div.sk-label label {font-family: monospace;font-weight: bold;display: inline-block;line-height: 1.2em;}#sk-container-id-1 div.sk-label-container {text-align: center;}#sk-container-id-1 div.sk-container {/* jupyter's `normalize.less` sets `[hidden] { display: none; }` but bootstrap.min.css set `[hidden] { display: none !important; }` so we also need the `!important` here to be able to override the default hidden behavior on the sphinx rendered scikit-learn.org. See: https://github.com/scikit-learn/scikit-learn/issues/21755 */display: inline-block !important;position: relative;}#sk-container-id-1 div.sk-text-repr-fallback {display: none;}</style><div id=\"sk-container-id-1\" class=\"sk-top-container\"><div class=\"sk-text-repr-fallback\"><pre>LinearSVC()</pre><b>In a Jupyter environment, please rerun this cell to show the HTML representation or trust the notebook. <br />On GitHub, the HTML representation is unable to render, please try loading this page with nbviewer.org.</b></div><div class=\"sk-container\" hidden><div class=\"sk-item\"><div class=\"sk-estimator sk-toggleable\"><input class=\"sk-toggleable__control sk-hidden--visually\" id=\"sk-estimator-id-1\" type=\"checkbox\" checked><label for=\"sk-estimator-id-1\" class=\"sk-toggleable__label sk-toggleable__label-arrow\">LinearSVC</label><div class=\"sk-toggleable__content\"><pre>LinearSVC()</pre></div></div></div></div></div>"
      ],
      "text/plain": [
       "LinearSVC()"
      ]
     },
     "execution_count": 93,
     "metadata": {},
     "output_type": "execute_result"
    }
   ],
   "source": [
    "# Training model\n",
    "model1 = LinearSVC()\n",
    "model1.fit(X_train_tf, Y_train)"
   ]
  },
  {
   "cell_type": "code",
   "execution_count": 94,
   "id": "7495e129",
   "metadata": {},
   "outputs": [
    {
     "name": "stdout",
     "output_type": "stream",
     "text": [
      "Accuracy Score -  0.8333333333333334\n"
     ]
    }
   ],
   "source": [
    "# Predicting the test data\n",
    "Y_pred = model1.predict(X_test_tf)\n",
    "print ('Accuracy Score - ', accuracy_score(Y_test, Y_pred))"
   ]
  },
  {
   "cell_type": "code",
   "execution_count": 106,
   "id": "6003b1fd",
   "metadata": {},
   "outputs": [
    {
     "data": {
      "text/html": [
       "<div>\n",
       "<style scoped>\n",
       "    .dataframe tbody tr th:only-of-type {\n",
       "        vertical-align: middle;\n",
       "    }\n",
       "\n",
       "    .dataframe tbody tr th {\n",
       "        vertical-align: top;\n",
       "    }\n",
       "\n",
       "    .dataframe thead th {\n",
       "        text-align: right;\n",
       "    }\n",
       "</style>\n",
       "<table border=\"1\" class=\"dataframe\">\n",
       "  <thead>\n",
       "    <tr style=\"text-align: right;\">\n",
       "      <th></th>\n",
       "      <th>text</th>\n",
       "      <th>actual</th>\n",
       "      <th>predicted</th>\n",
       "    </tr>\n",
       "  </thead>\n",
       "  <tbody>\n",
       "    <tr>\n",
       "      <th>11</th>\n",
       "      <td>A compelling Grisham tale This is a well devel...</td>\n",
       "      <td>positive</td>\n",
       "      <td>positive</td>\n",
       "    </tr>\n",
       "    <tr>\n",
       "      <th>19</th>\n",
       "      <td>Good storyline Grisham books sometimes peter o...</td>\n",
       "      <td>positive</td>\n",
       "      <td>positive</td>\n",
       "    </tr>\n",
       "    <tr>\n",
       "      <th>31</th>\n",
       "      <td>Waterproof boots Like this</td>\n",
       "      <td>positive</td>\n",
       "      <td>positive</td>\n",
       "    </tr>\n",
       "    <tr>\n",
       "      <th>111</th>\n",
       "      <td>Second pallet This is my 2nd palletLove the co...</td>\n",
       "      <td>positive</td>\n",
       "      <td>positive</td>\n",
       "    </tr>\n",
       "    <tr>\n",
       "      <th>47</th>\n",
       "      <td>SINOPHANT High Waisted Leggings for Women I fo...</td>\n",
       "      <td>neutral</td>\n",
       "      <td>positive</td>\n",
       "    </tr>\n",
       "  </tbody>\n",
       "</table>\n",
       "</div>"
      ],
      "text/plain": [
       "                                                  text    actual predicted\n",
       "11   A compelling Grisham tale This is a well devel...  positive  positive\n",
       "19   Good storyline Grisham books sometimes peter o...  positive  positive\n",
       "31                          Waterproof boots Like this  positive  positive\n",
       "111  Second pallet This is my 2nd palletLove the co...  positive  positive\n",
       "47   SINOPHANT High Waisted Leggings for Women I fo...   neutral  positive"
      ]
     },
     "execution_count": 106,
     "metadata": {},
     "output_type": "execute_result"
    }
   ],
   "source": [
    "# Adding predicted and actual sentiment to df\n",
    "results = pd.DataFrame({'text': X_test, 'actual': Y_test, 'predicted': Y_pred})\n",
    "results.head()"
   ]
  },
  {
   "cell_type": "code",
   "execution_count": 97,
   "id": "3a5a7f3b",
   "metadata": {},
   "outputs": [
    {
     "data": {
      "text/html": [
       "<style>#sk-container-id-2 {color: black;}#sk-container-id-2 pre{padding: 0;}#sk-container-id-2 div.sk-toggleable {background-color: white;}#sk-container-id-2 label.sk-toggleable__label {cursor: pointer;display: block;width: 100%;margin-bottom: 0;padding: 0.3em;box-sizing: border-box;text-align: center;}#sk-container-id-2 label.sk-toggleable__label-arrow:before {content: \"▸\";float: left;margin-right: 0.25em;color: #696969;}#sk-container-id-2 label.sk-toggleable__label-arrow:hover:before {color: black;}#sk-container-id-2 div.sk-estimator:hover label.sk-toggleable__label-arrow:before {color: black;}#sk-container-id-2 div.sk-toggleable__content {max-height: 0;max-width: 0;overflow: hidden;text-align: left;background-color: #f0f8ff;}#sk-container-id-2 div.sk-toggleable__content pre {margin: 0.2em;color: black;border-radius: 0.25em;background-color: #f0f8ff;}#sk-container-id-2 input.sk-toggleable__control:checked~div.sk-toggleable__content {max-height: 200px;max-width: 100%;overflow: auto;}#sk-container-id-2 input.sk-toggleable__control:checked~label.sk-toggleable__label-arrow:before {content: \"▾\";}#sk-container-id-2 div.sk-estimator input.sk-toggleable__control:checked~label.sk-toggleable__label {background-color: #d4ebff;}#sk-container-id-2 div.sk-label input.sk-toggleable__control:checked~label.sk-toggleable__label {background-color: #d4ebff;}#sk-container-id-2 input.sk-hidden--visually {border: 0;clip: rect(1px 1px 1px 1px);clip: rect(1px, 1px, 1px, 1px);height: 1px;margin: -1px;overflow: hidden;padding: 0;position: absolute;width: 1px;}#sk-container-id-2 div.sk-estimator {font-family: monospace;background-color: #f0f8ff;border: 1px dotted black;border-radius: 0.25em;box-sizing: border-box;margin-bottom: 0.5em;}#sk-container-id-2 div.sk-estimator:hover {background-color: #d4ebff;}#sk-container-id-2 div.sk-parallel-item::after {content: \"\";width: 100%;border-bottom: 1px solid gray;flex-grow: 1;}#sk-container-id-2 div.sk-label:hover label.sk-toggleable__label {background-color: #d4ebff;}#sk-container-id-2 div.sk-serial::before {content: \"\";position: absolute;border-left: 1px solid gray;box-sizing: border-box;top: 0;bottom: 0;left: 50%;z-index: 0;}#sk-container-id-2 div.sk-serial {display: flex;flex-direction: column;align-items: center;background-color: white;padding-right: 0.2em;padding-left: 0.2em;position: relative;}#sk-container-id-2 div.sk-item {position: relative;z-index: 1;}#sk-container-id-2 div.sk-parallel {display: flex;align-items: stretch;justify-content: center;background-color: white;position: relative;}#sk-container-id-2 div.sk-item::before, #sk-container-id-2 div.sk-parallel-item::before {content: \"\";position: absolute;border-left: 1px solid gray;box-sizing: border-box;top: 0;bottom: 0;left: 50%;z-index: -1;}#sk-container-id-2 div.sk-parallel-item {display: flex;flex-direction: column;z-index: 1;position: relative;background-color: white;}#sk-container-id-2 div.sk-parallel-item:first-child::after {align-self: flex-end;width: 50%;}#sk-container-id-2 div.sk-parallel-item:last-child::after {align-self: flex-start;width: 50%;}#sk-container-id-2 div.sk-parallel-item:only-child::after {width: 0;}#sk-container-id-2 div.sk-dashed-wrapped {border: 1px dashed gray;margin: 0 0.4em 0.5em 0.4em;box-sizing: border-box;padding-bottom: 0.4em;background-color: white;}#sk-container-id-2 div.sk-label label {font-family: monospace;font-weight: bold;display: inline-block;line-height: 1.2em;}#sk-container-id-2 div.sk-label-container {text-align: center;}#sk-container-id-2 div.sk-container {/* jupyter's `normalize.less` sets `[hidden] { display: none; }` but bootstrap.min.css set `[hidden] { display: none !important; }` so we also need the `!important` here to be able to override the default hidden behavior on the sphinx rendered scikit-learn.org. See: https://github.com/scikit-learn/scikit-learn/issues/21755 */display: inline-block !important;position: relative;}#sk-container-id-2 div.sk-text-repr-fallback {display: none;}</style><div id=\"sk-container-id-2\" class=\"sk-top-container\"><div class=\"sk-text-repr-fallback\"><pre>RandomForestClassifier()</pre><b>In a Jupyter environment, please rerun this cell to show the HTML representation or trust the notebook. <br />On GitHub, the HTML representation is unable to render, please try loading this page with nbviewer.org.</b></div><div class=\"sk-container\" hidden><div class=\"sk-item\"><div class=\"sk-estimator sk-toggleable\"><input class=\"sk-toggleable__control sk-hidden--visually\" id=\"sk-estimator-id-2\" type=\"checkbox\" checked><label for=\"sk-estimator-id-2\" class=\"sk-toggleable__label sk-toggleable__label-arrow\">RandomForestClassifier</label><div class=\"sk-toggleable__content\"><pre>RandomForestClassifier()</pre></div></div></div></div></div>"
      ],
      "text/plain": [
       "RandomForestClassifier()"
      ]
     },
     "execution_count": 97,
     "metadata": {},
     "output_type": "execute_result"
    }
   ],
   "source": [
    "model2 = RandomForestClassifier()\n",
    "model2.fit(X_train_tf, Y_train)"
   ]
  },
  {
   "cell_type": "code",
   "execution_count": 98,
   "id": "3becad1b",
   "metadata": {},
   "outputs": [
    {
     "name": "stdout",
     "output_type": "stream",
     "text": [
      "Accuracy Score -  0.7666666666666667\n"
     ]
    }
   ],
   "source": [
    "# Predicting the test data\n",
    "Y_pred = model2.predict(X_test_tf)\n",
    "print ('Accuracy Score - ', accuracy_score(Y_test, Y_pred))"
   ]
  },
  {
   "cell_type": "code",
   "execution_count": 107,
   "id": "a42d8d9d",
   "metadata": {},
   "outputs": [
    {
     "data": {
      "text/html": [
       "<div>\n",
       "<style scoped>\n",
       "    .dataframe tbody tr th:only-of-type {\n",
       "        vertical-align: middle;\n",
       "    }\n",
       "\n",
       "    .dataframe tbody tr th {\n",
       "        vertical-align: top;\n",
       "    }\n",
       "\n",
       "    .dataframe thead th {\n",
       "        text-align: right;\n",
       "    }\n",
       "</style>\n",
       "<table border=\"1\" class=\"dataframe\">\n",
       "  <thead>\n",
       "    <tr style=\"text-align: right;\">\n",
       "      <th></th>\n",
       "      <th>text</th>\n",
       "      <th>actual</th>\n",
       "      <th>predicted</th>\n",
       "    </tr>\n",
       "  </thead>\n",
       "  <tbody>\n",
       "    <tr>\n",
       "      <th>11</th>\n",
       "      <td>A compelling Grisham tale This is a well devel...</td>\n",
       "      <td>positive</td>\n",
       "      <td>positive</td>\n",
       "    </tr>\n",
       "    <tr>\n",
       "      <th>19</th>\n",
       "      <td>Good storyline Grisham books sometimes peter o...</td>\n",
       "      <td>positive</td>\n",
       "      <td>positive</td>\n",
       "    </tr>\n",
       "    <tr>\n",
       "      <th>31</th>\n",
       "      <td>Waterproof boots Like this</td>\n",
       "      <td>positive</td>\n",
       "      <td>positive</td>\n",
       "    </tr>\n",
       "    <tr>\n",
       "      <th>111</th>\n",
       "      <td>Second pallet This is my 2nd palletLove the co...</td>\n",
       "      <td>positive</td>\n",
       "      <td>positive</td>\n",
       "    </tr>\n",
       "    <tr>\n",
       "      <th>47</th>\n",
       "      <td>SINOPHANT High Waisted Leggings for Women I fo...</td>\n",
       "      <td>neutral</td>\n",
       "      <td>positive</td>\n",
       "    </tr>\n",
       "  </tbody>\n",
       "</table>\n",
       "</div>"
      ],
      "text/plain": [
       "                                                  text    actual predicted\n",
       "11   A compelling Grisham tale This is a well devel...  positive  positive\n",
       "19   Good storyline Grisham books sometimes peter o...  positive  positive\n",
       "31                          Waterproof boots Like this  positive  positive\n",
       "111  Second pallet This is my 2nd palletLove the co...  positive  positive\n",
       "47   SINOPHANT High Waisted Leggings for Women I fo...   neutral  positive"
      ]
     },
     "execution_count": 107,
     "metadata": {},
     "output_type": "execute_result"
    }
   ],
   "source": [
    "# Adding predicted and actual sentiment to df\n",
    "results2 = pd.DataFrame({'text': X_test, 'actual': Y_test, 'predicted': Y_pred})\n",
    "results2.head()"
   ]
  },
  {
   "cell_type": "code",
   "execution_count": 110,
   "id": "f69bfc81",
   "metadata": {},
   "outputs": [
    {
     "data": {
      "text/html": [
       "<style>#sk-container-id-5 {color: black;}#sk-container-id-5 pre{padding: 0;}#sk-container-id-5 div.sk-toggleable {background-color: white;}#sk-container-id-5 label.sk-toggleable__label {cursor: pointer;display: block;width: 100%;margin-bottom: 0;padding: 0.3em;box-sizing: border-box;text-align: center;}#sk-container-id-5 label.sk-toggleable__label-arrow:before {content: \"▸\";float: left;margin-right: 0.25em;color: #696969;}#sk-container-id-5 label.sk-toggleable__label-arrow:hover:before {color: black;}#sk-container-id-5 div.sk-estimator:hover label.sk-toggleable__label-arrow:before {color: black;}#sk-container-id-5 div.sk-toggleable__content {max-height: 0;max-width: 0;overflow: hidden;text-align: left;background-color: #f0f8ff;}#sk-container-id-5 div.sk-toggleable__content pre {margin: 0.2em;color: black;border-radius: 0.25em;background-color: #f0f8ff;}#sk-container-id-5 input.sk-toggleable__control:checked~div.sk-toggleable__content {max-height: 200px;max-width: 100%;overflow: auto;}#sk-container-id-5 input.sk-toggleable__control:checked~label.sk-toggleable__label-arrow:before {content: \"▾\";}#sk-container-id-5 div.sk-estimator input.sk-toggleable__control:checked~label.sk-toggleable__label {background-color: #d4ebff;}#sk-container-id-5 div.sk-label input.sk-toggleable__control:checked~label.sk-toggleable__label {background-color: #d4ebff;}#sk-container-id-5 input.sk-hidden--visually {border: 0;clip: rect(1px 1px 1px 1px);clip: rect(1px, 1px, 1px, 1px);height: 1px;margin: -1px;overflow: hidden;padding: 0;position: absolute;width: 1px;}#sk-container-id-5 div.sk-estimator {font-family: monospace;background-color: #f0f8ff;border: 1px dotted black;border-radius: 0.25em;box-sizing: border-box;margin-bottom: 0.5em;}#sk-container-id-5 div.sk-estimator:hover {background-color: #d4ebff;}#sk-container-id-5 div.sk-parallel-item::after {content: \"\";width: 100%;border-bottom: 1px solid gray;flex-grow: 1;}#sk-container-id-5 div.sk-label:hover label.sk-toggleable__label {background-color: #d4ebff;}#sk-container-id-5 div.sk-serial::before {content: \"\";position: absolute;border-left: 1px solid gray;box-sizing: border-box;top: 0;bottom: 0;left: 50%;z-index: 0;}#sk-container-id-5 div.sk-serial {display: flex;flex-direction: column;align-items: center;background-color: white;padding-right: 0.2em;padding-left: 0.2em;position: relative;}#sk-container-id-5 div.sk-item {position: relative;z-index: 1;}#sk-container-id-5 div.sk-parallel {display: flex;align-items: stretch;justify-content: center;background-color: white;position: relative;}#sk-container-id-5 div.sk-item::before, #sk-container-id-5 div.sk-parallel-item::before {content: \"\";position: absolute;border-left: 1px solid gray;box-sizing: border-box;top: 0;bottom: 0;left: 50%;z-index: -1;}#sk-container-id-5 div.sk-parallel-item {display: flex;flex-direction: column;z-index: 1;position: relative;background-color: white;}#sk-container-id-5 div.sk-parallel-item:first-child::after {align-self: flex-end;width: 50%;}#sk-container-id-5 div.sk-parallel-item:last-child::after {align-self: flex-start;width: 50%;}#sk-container-id-5 div.sk-parallel-item:only-child::after {width: 0;}#sk-container-id-5 div.sk-dashed-wrapped {border: 1px dashed gray;margin: 0 0.4em 0.5em 0.4em;box-sizing: border-box;padding-bottom: 0.4em;background-color: white;}#sk-container-id-5 div.sk-label label {font-family: monospace;font-weight: bold;display: inline-block;line-height: 1.2em;}#sk-container-id-5 div.sk-label-container {text-align: center;}#sk-container-id-5 div.sk-container {/* jupyter's `normalize.less` sets `[hidden] { display: none; }` but bootstrap.min.css set `[hidden] { display: none !important; }` so we also need the `!important` here to be able to override the default hidden behavior on the sphinx rendered scikit-learn.org. See: https://github.com/scikit-learn/scikit-learn/issues/21755 */display: inline-block !important;position: relative;}#sk-container-id-5 div.sk-text-repr-fallback {display: none;}</style><div id=\"sk-container-id-5\" class=\"sk-top-container\"><div class=\"sk-text-repr-fallback\"><pre>LogisticRegression()</pre><b>In a Jupyter environment, please rerun this cell to show the HTML representation or trust the notebook. <br />On GitHub, the HTML representation is unable to render, please try loading this page with nbviewer.org.</b></div><div class=\"sk-container\" hidden><div class=\"sk-item\"><div class=\"sk-estimator sk-toggleable\"><input class=\"sk-toggleable__control sk-hidden--visually\" id=\"sk-estimator-id-5\" type=\"checkbox\" checked><label for=\"sk-estimator-id-5\" class=\"sk-toggleable__label sk-toggleable__label-arrow\">LogisticRegression</label><div class=\"sk-toggleable__content\"><pre>LogisticRegression()</pre></div></div></div></div></div>"
      ],
      "text/plain": [
       "LogisticRegression()"
      ]
     },
     "execution_count": 110,
     "metadata": {},
     "output_type": "execute_result"
    }
   ],
   "source": [
    "model3 = LogisticRegression()\n",
    "model3.fit(X_train_tf, Y_train)"
   ]
  },
  {
   "cell_type": "code",
   "execution_count": 111,
   "id": "98cd2d79",
   "metadata": {},
   "outputs": [
    {
     "name": "stdout",
     "output_type": "stream",
     "text": [
      "Accuracy Score -  0.7666666666666667\n"
     ]
    }
   ],
   "source": [
    "# Predicting the test data\n",
    "Y_pred = model3.predict(X_test_tf)\n",
    "print ('Accuracy Score - ', accuracy_score(Y_test, Y_pred))"
   ]
  },
  {
   "cell_type": "code",
   "execution_count": 112,
   "id": "0402ff65",
   "metadata": {},
   "outputs": [
    {
     "data": {
      "text/html": [
       "<div>\n",
       "<style scoped>\n",
       "    .dataframe tbody tr th:only-of-type {\n",
       "        vertical-align: middle;\n",
       "    }\n",
       "\n",
       "    .dataframe tbody tr th {\n",
       "        vertical-align: top;\n",
       "    }\n",
       "\n",
       "    .dataframe thead th {\n",
       "        text-align: right;\n",
       "    }\n",
       "</style>\n",
       "<table border=\"1\" class=\"dataframe\">\n",
       "  <thead>\n",
       "    <tr style=\"text-align: right;\">\n",
       "      <th></th>\n",
       "      <th>text</th>\n",
       "      <th>actual</th>\n",
       "      <th>predicted</th>\n",
       "    </tr>\n",
       "  </thead>\n",
       "  <tbody>\n",
       "    <tr>\n",
       "      <th>11</th>\n",
       "      <td>A compelling Grisham tale This is a well devel...</td>\n",
       "      <td>positive</td>\n",
       "      <td>positive</td>\n",
       "    </tr>\n",
       "    <tr>\n",
       "      <th>19</th>\n",
       "      <td>Good storyline Grisham books sometimes peter o...</td>\n",
       "      <td>positive</td>\n",
       "      <td>positive</td>\n",
       "    </tr>\n",
       "    <tr>\n",
       "      <th>31</th>\n",
       "      <td>Waterproof boots Like this</td>\n",
       "      <td>positive</td>\n",
       "      <td>positive</td>\n",
       "    </tr>\n",
       "    <tr>\n",
       "      <th>111</th>\n",
       "      <td>Second pallet This is my 2nd palletLove the co...</td>\n",
       "      <td>positive</td>\n",
       "      <td>positive</td>\n",
       "    </tr>\n",
       "    <tr>\n",
       "      <th>47</th>\n",
       "      <td>SINOPHANT High Waisted Leggings for Women I fo...</td>\n",
       "      <td>neutral</td>\n",
       "      <td>positive</td>\n",
       "    </tr>\n",
       "  </tbody>\n",
       "</table>\n",
       "</div>"
      ],
      "text/plain": [
       "                                                  text    actual predicted\n",
       "11   A compelling Grisham tale This is a well devel...  positive  positive\n",
       "19   Good storyline Grisham books sometimes peter o...  positive  positive\n",
       "31                          Waterproof boots Like this  positive  positive\n",
       "111  Second pallet This is my 2nd palletLove the co...  positive  positive\n",
       "47   SINOPHANT High Waisted Leggings for Women I fo...   neutral  positive"
      ]
     },
     "execution_count": 112,
     "metadata": {},
     "output_type": "execute_result"
    }
   ],
   "source": [
    "# Adding predicted and actual sentiment to df\n",
    "results3 = pd.DataFrame({'text': X_test, 'actual': Y_test, 'predicted': Y_pred})\n",
    "results3.head()"
   ]
  }
 ],
 "metadata": {
  "kernelspec": {
   "display_name": "Python 3 (ipykernel)",
   "language": "python",
   "name": "python3"
  },
  "language_info": {
   "codemirror_mode": {
    "name": "ipython",
    "version": 3
   },
   "file_extension": ".py",
   "mimetype": "text/x-python",
   "name": "python",
   "nbconvert_exporter": "python",
   "pygments_lexer": "ipython3",
   "version": "3.8.18"
  }
 },
 "nbformat": 4,
 "nbformat_minor": 5
}
